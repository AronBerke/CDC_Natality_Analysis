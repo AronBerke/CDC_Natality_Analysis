{
 "cells": [
  {
   "cell_type": "code",
   "execution_count": 55,
   "metadata": {},
   "outputs": [],
   "source": [
    "#import modules\n",
    "import pandas as pd\n",
    "import numpy as np\n",
    "import matplotlib.pyplot as plt\n",
    "import sklearn.model_selection as ms\n",
    "from sklearn.model_selection import train_test_split\n",
    "from sklearn.metrics import confusion_matrix\n",
    "from sklearn import tree\n",
    "from sklearn import ensemble\n",
    "import xgboost\n",
    "from xgboost import XGBClassifier\n",
    "from sklearn.model_selection import GridSearchCV\n",
    "from sklearn.metrics import accuracy_score"
   ]
  },
  {
   "cell_type": "code",
   "execution_count": 26,
   "metadata": {},
   "outputs": [],
   "source": [
    "#Import dataset\n",
    "trimmed2018 = pd.read_csv('cdc2018trimmed2.csv')"
   ]
  },
  {
   "cell_type": "code",
   "execution_count": 27,
   "metadata": {},
   "outputs": [
    {
     "name": "stdout",
     "output_type": "stream",
     "text": [
      "(3801534, 91)\n"
     ]
    },
    {
     "data": {
      "text/html": [
       "<div>\n",
       "<style scoped>\n",
       "    .dataframe tbody tr th:only-of-type {\n",
       "        vertical-align: middle;\n",
       "    }\n",
       "\n",
       "    .dataframe tbody tr th {\n",
       "        vertical-align: top;\n",
       "    }\n",
       "\n",
       "    .dataframe thead th {\n",
       "        text-align: right;\n",
       "    }\n",
       "</style>\n",
       "<table border=\"1\" class=\"dataframe\">\n",
       "  <thead>\n",
       "    <tr style=\"text-align: right;\">\n",
       "      <th></th>\n",
       "      <th>DOB_YY</th>\n",
       "      <th>DOB_MM</th>\n",
       "      <th>DOB_TT</th>\n",
       "      <th>DOB_WK</th>\n",
       "      <th>BFACIL3</th>\n",
       "      <th>MAGER9</th>\n",
       "      <th>RESTATUS</th>\n",
       "      <th>MRACEHISP</th>\n",
       "      <th>MAR_P</th>\n",
       "      <th>DMAR</th>\n",
       "      <th>...</th>\n",
       "      <th>CA_GAST</th>\n",
       "      <th>CA_LIMB</th>\n",
       "      <th>CA_CLEFT</th>\n",
       "      <th>CA_CLPAL</th>\n",
       "      <th>CA_DOWN</th>\n",
       "      <th>CA_DISOR</th>\n",
       "      <th>CA_HYPO</th>\n",
       "      <th>ITRAN</th>\n",
       "      <th>ILIVE</th>\n",
       "      <th>BFED</th>\n",
       "    </tr>\n",
       "  </thead>\n",
       "  <tbody>\n",
       "    <tr>\n",
       "      <th>0</th>\n",
       "      <td>2018</td>\n",
       "      <td>1</td>\n",
       "      <td>1227</td>\n",
       "      <td>2</td>\n",
       "      <td>1</td>\n",
       "      <td>5</td>\n",
       "      <td>2</td>\n",
       "      <td>1</td>\n",
       "      <td>X</td>\n",
       "      <td>1.0</td>\n",
       "      <td>...</td>\n",
       "      <td>N</td>\n",
       "      <td>N</td>\n",
       "      <td>N</td>\n",
       "      <td>N</td>\n",
       "      <td>N</td>\n",
       "      <td>N</td>\n",
       "      <td>N</td>\n",
       "      <td>N</td>\n",
       "      <td>Y</td>\n",
       "      <td>Y</td>\n",
       "    </tr>\n",
       "    <tr>\n",
       "      <th>1</th>\n",
       "      <td>2018</td>\n",
       "      <td>1</td>\n",
       "      <td>1704</td>\n",
       "      <td>2</td>\n",
       "      <td>1</td>\n",
       "      <td>6</td>\n",
       "      <td>2</td>\n",
       "      <td>3</td>\n",
       "      <td>Y</td>\n",
       "      <td>2.0</td>\n",
       "      <td>...</td>\n",
       "      <td>N</td>\n",
       "      <td>N</td>\n",
       "      <td>N</td>\n",
       "      <td>N</td>\n",
       "      <td>N</td>\n",
       "      <td>N</td>\n",
       "      <td>N</td>\n",
       "      <td>N</td>\n",
       "      <td>Y</td>\n",
       "      <td>Y</td>\n",
       "    </tr>\n",
       "    <tr>\n",
       "      <th>2</th>\n",
       "      <td>2018</td>\n",
       "      <td>1</td>\n",
       "      <td>336</td>\n",
       "      <td>2</td>\n",
       "      <td>1</td>\n",
       "      <td>4</td>\n",
       "      <td>1</td>\n",
       "      <td>1</td>\n",
       "      <td>X</td>\n",
       "      <td>1.0</td>\n",
       "      <td>...</td>\n",
       "      <td>N</td>\n",
       "      <td>N</td>\n",
       "      <td>N</td>\n",
       "      <td>N</td>\n",
       "      <td>N</td>\n",
       "      <td>N</td>\n",
       "      <td>N</td>\n",
       "      <td>N</td>\n",
       "      <td>Y</td>\n",
       "      <td>Y</td>\n",
       "    </tr>\n",
       "    <tr>\n",
       "      <th>3</th>\n",
       "      <td>2018</td>\n",
       "      <td>1</td>\n",
       "      <td>938</td>\n",
       "      <td>2</td>\n",
       "      <td>1</td>\n",
       "      <td>3</td>\n",
       "      <td>2</td>\n",
       "      <td>3</td>\n",
       "      <td>Y</td>\n",
       "      <td>2.0</td>\n",
       "      <td>...</td>\n",
       "      <td>N</td>\n",
       "      <td>N</td>\n",
       "      <td>N</td>\n",
       "      <td>N</td>\n",
       "      <td>N</td>\n",
       "      <td>N</td>\n",
       "      <td>N</td>\n",
       "      <td>N</td>\n",
       "      <td>Y</td>\n",
       "      <td>N</td>\n",
       "    </tr>\n",
       "    <tr>\n",
       "      <th>4</th>\n",
       "      <td>2018</td>\n",
       "      <td>1</td>\n",
       "      <td>830</td>\n",
       "      <td>3</td>\n",
       "      <td>1</td>\n",
       "      <td>6</td>\n",
       "      <td>1</td>\n",
       "      <td>1</td>\n",
       "      <td>X</td>\n",
       "      <td>1.0</td>\n",
       "      <td>...</td>\n",
       "      <td>N</td>\n",
       "      <td>N</td>\n",
       "      <td>N</td>\n",
       "      <td>N</td>\n",
       "      <td>N</td>\n",
       "      <td>N</td>\n",
       "      <td>N</td>\n",
       "      <td>N</td>\n",
       "      <td>Y</td>\n",
       "      <td>Y</td>\n",
       "    </tr>\n",
       "  </tbody>\n",
       "</table>\n",
       "<p>5 rows × 91 columns</p>\n",
       "</div>"
      ],
      "text/plain": [
       "   DOB_YY  DOB_MM  DOB_TT  DOB_WK  BFACIL3  MAGER9  RESTATUS  MRACEHISP MAR_P  \\\n",
       "0    2018       1    1227       2        1       5         2          1     X   \n",
       "1    2018       1    1704       2        1       6         2          3     Y   \n",
       "2    2018       1     336       2        1       4         1          1     X   \n",
       "3    2018       1     938       2        1       3         2          3     Y   \n",
       "4    2018       1     830       3        1       6         1          1     X   \n",
       "\n",
       "   DMAR  ...  CA_GAST  CA_LIMB  CA_CLEFT  CA_CLPAL  CA_DOWN  CA_DISOR  \\\n",
       "0   1.0  ...        N        N         N         N        N         N   \n",
       "1   2.0  ...        N        N         N         N        N         N   \n",
       "2   1.0  ...        N        N         N         N        N         N   \n",
       "3   2.0  ...        N        N         N         N        N         N   \n",
       "4   1.0  ...        N        N         N         N        N         N   \n",
       "\n",
       "   CA_HYPO  ITRAN  ILIVE  BFED  \n",
       "0        N      N      Y     Y  \n",
       "1        N      N      Y     Y  \n",
       "2        N      N      Y     Y  \n",
       "3        N      N      Y     N  \n",
       "4        N      N      Y     Y  \n",
       "\n",
       "[5 rows x 91 columns]"
      ]
     },
     "execution_count": 27,
     "metadata": {},
     "output_type": "execute_result"
    }
   ],
   "source": [
    "print(trimmed2018.shape)\n",
    "trimmed2018.head()"
   ]
  },
  {
   "cell_type": "code",
   "execution_count": 28,
   "metadata": {},
   "outputs": [
    {
     "data": {
      "text/plain": [
       "(3801534, 91)"
      ]
     },
     "execution_count": 28,
     "metadata": {},
     "output_type": "execute_result"
    }
   ],
   "source": [
    "trimmed2018.shape"
   ]
  },
  {
   "cell_type": "code",
   "execution_count": 29,
   "metadata": {},
   "outputs": [
    {
     "data": {
      "text/plain": [
       "array(['N', 'Y', 'U'], dtype=object)"
      ]
     },
     "execution_count": 29,
     "metadata": {},
     "output_type": "execute_result"
    }
   ],
   "source": [
    "trimmed2018['AB_NICU'].unique()"
   ]
  },
  {
   "cell_type": "code",
   "execution_count": 30,
   "metadata": {},
   "outputs": [
    {
     "data": {
      "text/plain": [
       "array(['N', 'Y'], dtype=object)"
      ]
     },
     "execution_count": 30,
     "metadata": {},
     "output_type": "execute_result"
    }
   ],
   "source": [
    "trimmed2018 = trimmed2018[trimmed2018['AB_NICU'].isin(['Y', 'N'])]\n",
    "trimmed2018['AB_NICU'].unique()"
   ]
  },
  {
   "cell_type": "code",
   "execution_count": 31,
   "metadata": {},
   "outputs": [],
   "source": [
    "def create_random_column(df):\n",
    "    '''\n",
    "    this creates a list of random numbers between 1 and 1000\n",
    "    of the same lenght as each column in the dataframe, appends\n",
    "    a column named \"RANDOM\" to the dataframe\n",
    "    '''\n",
    "    import random\n",
    "    mylist = []\n",
    "    for i in range(0,df.shape[0]):\n",
    "        x = random.randint(1,1000)\n",
    "        mylist.append(x)\n",
    "    df['RANDOM'] = mylist\n",
    "    \n",
    "    return df"
   ]
  },
  {
   "cell_type": "code",
   "execution_count": 32,
   "metadata": {},
   "outputs": [],
   "source": [
    "trimmed2018 = create_random_column(trimmed2018)"
   ]
  },
  {
   "cell_type": "code",
   "execution_count": 33,
   "metadata": {},
   "outputs": [],
   "source": [
    "#LabelEncoding Function. Thanks Ira!\n",
    "def LabelEncoding(dataframe):\n",
    "    '''\n",
    "    Function that takes a dataframe and transforms it with label encoding on all the categorical features.\n",
    "    '''\n",
    "    \n",
    "    #create a list using object types since dataframe.dtypes.value_counts() only shows objects and int64\n",
    "    objlist = list(dataframe.select_dtypes(include=['object']).columns)\n",
    "    \n",
    "    #change type then transform column using cat codes\n",
    "    for col in objlist:\n",
    "        dataframe[col] = dataframe[col].astype('category')\n",
    "        dataframe[col] = dataframe[col].cat.codes\n",
    "    \n",
    "    return dataframe"
   ]
  },
  {
   "cell_type": "code",
   "execution_count": 36,
   "metadata": {},
   "outputs": [],
   "source": [
    "label2018 = LabelEncoding(trimmed2018)"
   ]
  },
  {
   "cell_type": "code",
   "execution_count": 37,
   "metadata": {},
   "outputs": [
    {
     "data": {
      "text/plain": [
       "0    3450677\n",
       "1     347404\n",
       "Name: AB_NICU, dtype: int64"
      ]
     },
     "execution_count": 37,
     "metadata": {},
     "output_type": "execute_result"
    }
   ],
   "source": [
    "label2018['AB_NICU'].value_counts()"
   ]
  },
  {
   "cell_type": "code",
   "execution_count": 38,
   "metadata": {},
   "outputs": [],
   "source": [
    "# function to split out holdout test set\n",
    "def split_sets(dataframe, seed, test_prop=0.1): \n",
    "    '''\n",
    "    - A function that splits specifically a dataframe into a train and test portion\n",
    "    - Requires multiple assignment: train, test\n",
    "    ---------------\n",
    "    - dataframe: dataframe to be split\n",
    "    - seed: set seed for reproducability\n",
    "    - test_prop: takes a float - proportion of dataframe that should be allocated to the test set\n",
    "    '''\n",
    "\n",
    "    np.random.seed(seed)\n",
    "    testIdxes = np.random.choice(range(0,dataframe.shape[0]), size=round(dataframe.shape[0]*test_prop), replace=False)\n",
    "    trainIdxes = list(set(range(0,dataframe.shape[0])) - set(testIdxes))\n",
    "\n",
    "    train = dataframe.iloc[trainIdxes,:]\n",
    "    test  = dataframe.iloc[testIdxes,:]\n",
    "    \n",
    "    return train, test"
   ]
  },
  {
   "cell_type": "code",
   "execution_count": 39,
   "metadata": {},
   "outputs": [],
   "source": [
    "# split 90:10 train, test\n",
    "train2018, test2018 = split_sets(label2018, 0, test_prop=0.1)"
   ]
  },
  {
   "cell_type": "code",
   "execution_count": 44,
   "metadata": {},
   "outputs": [],
   "source": [
    "#Downsample function, thanks Bettina and Aron!\n",
    "def downsample_df (df):\n",
    "\n",
    "    '''\n",
    "    Remove undefined information on NICU admissions (AB_NICU == 'U'),\n",
    "    create a binary target vector, and create a \"balanced\" dataframe\n",
    "    with all NICU admissions and matching numbers of randomly selected non-NICU admissions.\n",
    "    '''\n",
    "\n",
    "    import pandas as pd\n",
    "    import numpy as np\n",
    "\n",
    "    # Get indicies of each class' observations\n",
    "    index_class0 = np.where(df['AB_NICU'] == 0)[0]\n",
    "    index_class1 = np.where(df['AB_NICU'] == 1)[0]\n",
    "\n",
    "    # Get numbers of observations in class 0\n",
    "    n_class1 = len(index_class1)\n",
    "\n",
    "    # Randomly sample the same number of observations from class 1 as in class 0, without replacement\n",
    "    np.random.seed(0)\n",
    "    index_class0_downsampled = np.random.choice(index_class0, size=n_class1, replace=False)\n",
    "\n",
    "    # Create dataframes for NICU and downsampled non-NICU\n",
    "    df_defect = df.iloc[index_class1]\n",
    "    df_adj_NONdefect = df.iloc[index_class0_downsampled]\n",
    "\n",
    "    # Append into 1 dataframe\n",
    "    df_downsampled = df_defect.append(df_adj_NONdefect)\n",
    "\n",
    "    return df_downsampled"
   ]
  },
  {
   "cell_type": "code",
   "execution_count": 45,
   "metadata": {},
   "outputs": [],
   "source": [
    "#Downsampled\n",
    "dsample = downsample_df(train2018)"
   ]
  },
  {
   "cell_type": "code",
   "execution_count": 49,
   "metadata": {},
   "outputs": [
    {
     "name": "stdout",
     "output_type": "stream",
     "text": [
      "347404\n",
      "347404\n",
      "312942\n",
      "(625884, 92)\n",
      "312942\n",
      "312942\n"
     ]
    }
   ],
   "source": [
    "#check\n",
    "print(sum(label2018.AB_NICU == 1))   #347404\n",
    "print(sum(train2018.AB_NICU == 1))   #312942\n",
    "print(dsample.shape)   #625884 rows, 92 columns   -> It worked! \n",
    "print(sum(dsample.AB_NICU == 0))  #312942\n",
    "print(sum(dsample.AB_NICU == 1))  #312942"
   ]
  },
  {
   "cell_type": "code",
   "execution_count": 52,
   "metadata": {},
   "outputs": [
    {
     "data": {
      "text/plain": [
       "1    312942\n",
       "0    312942\n",
       "Name: AB_NICU, dtype: int64"
      ]
     },
     "execution_count": 52,
     "metadata": {},
     "output_type": "execute_result"
    }
   ],
   "source": [
    "X_train = dsample.drop('AB_NICU', axis=1)\n",
    "y_train = dsample['AB_NICU']\n",
    "X_test = test2018.drop('AB_NICU', axis=1)\n",
    "y_test = test2018['AB_NICU']\n",
    "y_train.value_counts()"
   ]
  },
  {
   "cell_type": "code",
   "execution_count": 53,
   "metadata": {},
   "outputs": [
    {
     "name": "stdout",
     "output_type": "stream",
     "text": [
      "The training error is: 0.15004\n",
      "The test error is: 0.10492\n"
     ]
    }
   ],
   "source": [
    "#XGBoost initial fit \n",
    "xgb = XGBClassifier()\n",
    "xgb.set_params(random_state=0)\n",
    "xgb.fit(X_train, y_train)\n",
    "print(\"The training error is: %.5f\" % (1 - xgb.score(X_train, y_train)))\n",
    "print(\"The test error is: %.5f\" % (1 - xgb.score(X_test, y_test)))"
   ]
  },
  {
   "cell_type": "code",
   "execution_count": 56,
   "metadata": {},
   "outputs": [
    {
     "data": {
      "text/plain": [
       "array([[312629,  32717],\n",
       "       [  7132,  27330]])"
      ]
     },
     "execution_count": 56,
     "metadata": {},
     "output_type": "execute_result"
    }
   ],
   "source": [
    "cm_test = confusion_matrix(y_test, xgb.predict(X_test))\n",
    "cm_test"
   ]
  },
  {
   "cell_type": "code",
   "execution_count": 57,
   "metadata": {},
   "outputs": [
    {
     "name": "stdout",
     "output_type": "stream",
     "text": [
      "The training error is: 0.43952\n",
      "The test error is: 0.79275\n"
     ]
    }
   ],
   "source": [
    "#XGBoost initial fit # not needed, this is non-NICU adjusted\n",
    "#xgb1 = XGBClassifier()\n",
    "#xgb1.set_params(random_state=0, scale_pos_weight = 9)\n",
    "#xgb1.fit(X_train, y_train)\n",
    "#print(\"The training error is: %.5f\" % (1 - xgb1.score(X_train, y_train)))\n",
    "#print(\"The test error is: %.5f\" % (1 - xgb1.score(X_test, y_test)))"
   ]
  },
  {
   "cell_type": "code",
   "execution_count": 58,
   "metadata": {},
   "outputs": [
    {
     "data": {
      "text/plain": [
       "array([[ 44517, 300829],\n",
       "       [   263,  34199]])"
      ]
     },
     "execution_count": 58,
     "metadata": {},
     "output_type": "execute_result"
    }
   ],
   "source": [
    "#cm_test1 = confusion_matrix(y_test, xgb1.predict(X_test))\n",
    "#cm_test1"
   ]
  },
  {
   "cell_type": "code",
   "execution_count": null,
   "metadata": {},
   "outputs": [],
   "source": [
    "# set the parameter grid\n",
    "xgb_param_grid ={'learning_rate': [0.01,0.05,0.1],\n",
    "                 'max_depth': [3,4,5],\n",
    "                 'min_child_weight': [4,5,6],\n",
    "                 'n_estimators': [300, 400, 500]}\n",
    "\n",
    "#grid search\n",
    "grid_search_xgb = GridSearchCV(xgb, xgb_param_grid, scoring='balanced_accuracy', cv= 3, n_jobs=-1, return_train_score = True)\n",
    "%time grid_search_xgb.fit(X_train, y_train)"
   ]
  },
  {
   "cell_type": "code",
   "execution_count": null,
   "metadata": {},
   "outputs": [],
   "source": [
    "# get the best parameters\n",
    "print(grid_search_xgb.best_params_)\n",
    "print(grid_search_xgb.best_score_)"
   ]
  },
  {
   "cell_type": "code",
   "execution_count": null,
   "metadata": {},
   "outputs": [],
   "source": [
    "# get the training/test errors\n",
    "print(\"The training error is: %.5f\" % (1 - grid_search_xgb.best_estimator_.score(X_train, y_train)))\n",
    "print(\"The test error is: %.5f\" % (1 - grid_search_xgb.best_estimator_.score(X_test, y_test)))"
   ]
  },
  {
   "cell_type": "code",
   "execution_count": null,
   "metadata": {},
   "outputs": [],
   "source": [
    "#Confusion matrix\n",
    "cm_grid = confusion_matrix(y_test, grid_search_xgb.best_estimator_.predict(X_test))\n",
    "cm_grid"
   ]
  },
  {
   "cell_type": "code",
   "execution_count": null,
   "metadata": {},
   "outputs": [],
   "source": [
    "#Prediction with tuned hyperparameters\n",
    "grid_search_xgb_pred = grid_search_xgb.predict(X_test)"
   ]
  },
  {
   "cell_type": "code",
   "execution_count": 70,
   "metadata": {},
   "outputs": [
    {
     "ename": "KeyboardInterrupt",
     "evalue": "",
     "output_type": "error",
     "traceback": [
      "\u001b[0;31m---------------------------------------------------------------------------\u001b[0m",
      "\u001b[0;31mKeyboardInterrupt\u001b[0m                         Traceback (most recent call last)",
      "\u001b[0;32m<timed eval>\u001b[0m in \u001b[0;36m<module>\u001b[0;34m\u001b[0m\n",
      "\u001b[0;32m//anaconda3/lib/python3.7/site-packages/sklearn/model_selection/_search.py\u001b[0m in \u001b[0;36mfit\u001b[0;34m(self, X, y, groups, **fit_params)\u001b[0m\n\u001b[1;32m    686\u001b[0m                 \u001b[0;32mreturn\u001b[0m \u001b[0mresults\u001b[0m\u001b[0;34m\u001b[0m\u001b[0;34m\u001b[0m\u001b[0m\n\u001b[1;32m    687\u001b[0m \u001b[0;34m\u001b[0m\u001b[0m\n\u001b[0;32m--> 688\u001b[0;31m             \u001b[0mself\u001b[0m\u001b[0;34m.\u001b[0m\u001b[0m_run_search\u001b[0m\u001b[0;34m(\u001b[0m\u001b[0mevaluate_candidates\u001b[0m\u001b[0;34m)\u001b[0m\u001b[0;34m\u001b[0m\u001b[0;34m\u001b[0m\u001b[0m\n\u001b[0m\u001b[1;32m    689\u001b[0m \u001b[0;34m\u001b[0m\u001b[0m\n\u001b[1;32m    690\u001b[0m         \u001b[0;31m# For multi-metric evaluation, store the best_index_, best_params_ and\u001b[0m\u001b[0;34m\u001b[0m\u001b[0;34m\u001b[0m\u001b[0;34m\u001b[0m\u001b[0m\n",
      "\u001b[0;32m//anaconda3/lib/python3.7/site-packages/sklearn/model_selection/_search.py\u001b[0m in \u001b[0;36m_run_search\u001b[0;34m(self, evaluate_candidates)\u001b[0m\n\u001b[1;32m   1147\u001b[0m     \u001b[0;32mdef\u001b[0m \u001b[0m_run_search\u001b[0m\u001b[0;34m(\u001b[0m\u001b[0mself\u001b[0m\u001b[0;34m,\u001b[0m \u001b[0mevaluate_candidates\u001b[0m\u001b[0;34m)\u001b[0m\u001b[0;34m:\u001b[0m\u001b[0;34m\u001b[0m\u001b[0;34m\u001b[0m\u001b[0m\n\u001b[1;32m   1148\u001b[0m         \u001b[0;34m\"\"\"Search all candidates in param_grid\"\"\"\u001b[0m\u001b[0;34m\u001b[0m\u001b[0;34m\u001b[0m\u001b[0m\n\u001b[0;32m-> 1149\u001b[0;31m         \u001b[0mevaluate_candidates\u001b[0m\u001b[0;34m(\u001b[0m\u001b[0mParameterGrid\u001b[0m\u001b[0;34m(\u001b[0m\u001b[0mself\u001b[0m\u001b[0;34m.\u001b[0m\u001b[0mparam_grid\u001b[0m\u001b[0;34m)\u001b[0m\u001b[0;34m)\u001b[0m\u001b[0;34m\u001b[0m\u001b[0;34m\u001b[0m\u001b[0m\n\u001b[0m\u001b[1;32m   1150\u001b[0m \u001b[0;34m\u001b[0m\u001b[0m\n\u001b[1;32m   1151\u001b[0m \u001b[0;34m\u001b[0m\u001b[0m\n",
      "\u001b[0;32m//anaconda3/lib/python3.7/site-packages/sklearn/model_selection/_search.py\u001b[0m in \u001b[0;36mevaluate_candidates\u001b[0;34m(candidate_params)\u001b[0m\n\u001b[1;32m    665\u001b[0m                                \u001b[0;32mfor\u001b[0m \u001b[0mparameters\u001b[0m\u001b[0;34m,\u001b[0m \u001b[0;34m(\u001b[0m\u001b[0mtrain\u001b[0m\u001b[0;34m,\u001b[0m \u001b[0mtest\u001b[0m\u001b[0;34m)\u001b[0m\u001b[0;34m\u001b[0m\u001b[0;34m\u001b[0m\u001b[0m\n\u001b[1;32m    666\u001b[0m                                in product(candidate_params,\n\u001b[0;32m--> 667\u001b[0;31m                                           cv.split(X, y, groups)))\n\u001b[0m\u001b[1;32m    668\u001b[0m \u001b[0;34m\u001b[0m\u001b[0m\n\u001b[1;32m    669\u001b[0m                 \u001b[0;32mif\u001b[0m \u001b[0mlen\u001b[0m\u001b[0;34m(\u001b[0m\u001b[0mout\u001b[0m\u001b[0;34m)\u001b[0m \u001b[0;34m<\u001b[0m \u001b[0;36m1\u001b[0m\u001b[0;34m:\u001b[0m\u001b[0;34m\u001b[0m\u001b[0;34m\u001b[0m\u001b[0m\n",
      "\u001b[0;32m//anaconda3/lib/python3.7/site-packages/joblib/parallel.py\u001b[0m in \u001b[0;36m__call__\u001b[0;34m(self, iterable)\u001b[0m\n\u001b[1;32m    932\u001b[0m \u001b[0;34m\u001b[0m\u001b[0m\n\u001b[1;32m    933\u001b[0m             \u001b[0;32mwith\u001b[0m \u001b[0mself\u001b[0m\u001b[0;34m.\u001b[0m\u001b[0m_backend\u001b[0m\u001b[0;34m.\u001b[0m\u001b[0mretrieval_context\u001b[0m\u001b[0;34m(\u001b[0m\u001b[0;34m)\u001b[0m\u001b[0;34m:\u001b[0m\u001b[0;34m\u001b[0m\u001b[0;34m\u001b[0m\u001b[0m\n\u001b[0;32m--> 934\u001b[0;31m                 \u001b[0mself\u001b[0m\u001b[0;34m.\u001b[0m\u001b[0mretrieve\u001b[0m\u001b[0;34m(\u001b[0m\u001b[0;34m)\u001b[0m\u001b[0;34m\u001b[0m\u001b[0;34m\u001b[0m\u001b[0m\n\u001b[0m\u001b[1;32m    935\u001b[0m             \u001b[0;31m# Make sure that we get a last message telling us we are done\u001b[0m\u001b[0;34m\u001b[0m\u001b[0;34m\u001b[0m\u001b[0;34m\u001b[0m\u001b[0m\n\u001b[1;32m    936\u001b[0m             \u001b[0melapsed_time\u001b[0m \u001b[0;34m=\u001b[0m \u001b[0mtime\u001b[0m\u001b[0;34m.\u001b[0m\u001b[0mtime\u001b[0m\u001b[0;34m(\u001b[0m\u001b[0;34m)\u001b[0m \u001b[0;34m-\u001b[0m \u001b[0mself\u001b[0m\u001b[0;34m.\u001b[0m\u001b[0m_start_time\u001b[0m\u001b[0;34m\u001b[0m\u001b[0;34m\u001b[0m\u001b[0m\n",
      "\u001b[0;32m//anaconda3/lib/python3.7/site-packages/joblib/parallel.py\u001b[0m in \u001b[0;36mretrieve\u001b[0;34m(self)\u001b[0m\n\u001b[1;32m    831\u001b[0m             \u001b[0;32mtry\u001b[0m\u001b[0;34m:\u001b[0m\u001b[0;34m\u001b[0m\u001b[0;34m\u001b[0m\u001b[0m\n\u001b[1;32m    832\u001b[0m                 \u001b[0;32mif\u001b[0m \u001b[0mgetattr\u001b[0m\u001b[0;34m(\u001b[0m\u001b[0mself\u001b[0m\u001b[0;34m.\u001b[0m\u001b[0m_backend\u001b[0m\u001b[0;34m,\u001b[0m \u001b[0;34m'supports_timeout'\u001b[0m\u001b[0;34m,\u001b[0m \u001b[0;32mFalse\u001b[0m\u001b[0;34m)\u001b[0m\u001b[0;34m:\u001b[0m\u001b[0;34m\u001b[0m\u001b[0;34m\u001b[0m\u001b[0m\n\u001b[0;32m--> 833\u001b[0;31m                     \u001b[0mself\u001b[0m\u001b[0;34m.\u001b[0m\u001b[0m_output\u001b[0m\u001b[0;34m.\u001b[0m\u001b[0mextend\u001b[0m\u001b[0;34m(\u001b[0m\u001b[0mjob\u001b[0m\u001b[0;34m.\u001b[0m\u001b[0mget\u001b[0m\u001b[0;34m(\u001b[0m\u001b[0mtimeout\u001b[0m\u001b[0;34m=\u001b[0m\u001b[0mself\u001b[0m\u001b[0;34m.\u001b[0m\u001b[0mtimeout\u001b[0m\u001b[0;34m)\u001b[0m\u001b[0;34m)\u001b[0m\u001b[0;34m\u001b[0m\u001b[0;34m\u001b[0m\u001b[0m\n\u001b[0m\u001b[1;32m    834\u001b[0m                 \u001b[0;32melse\u001b[0m\u001b[0;34m:\u001b[0m\u001b[0;34m\u001b[0m\u001b[0;34m\u001b[0m\u001b[0m\n\u001b[1;32m    835\u001b[0m                     \u001b[0mself\u001b[0m\u001b[0;34m.\u001b[0m\u001b[0m_output\u001b[0m\u001b[0;34m.\u001b[0m\u001b[0mextend\u001b[0m\u001b[0;34m(\u001b[0m\u001b[0mjob\u001b[0m\u001b[0;34m.\u001b[0m\u001b[0mget\u001b[0m\u001b[0;34m(\u001b[0m\u001b[0;34m)\u001b[0m\u001b[0;34m)\u001b[0m\u001b[0;34m\u001b[0m\u001b[0;34m\u001b[0m\u001b[0m\n",
      "\u001b[0;32m//anaconda3/lib/python3.7/site-packages/joblib/_parallel_backends.py\u001b[0m in \u001b[0;36mwrap_future_result\u001b[0;34m(future, timeout)\u001b[0m\n\u001b[1;32m    519\u001b[0m         AsyncResults.get from multiprocessing.\"\"\"\n\u001b[1;32m    520\u001b[0m         \u001b[0;32mtry\u001b[0m\u001b[0;34m:\u001b[0m\u001b[0;34m\u001b[0m\u001b[0;34m\u001b[0m\u001b[0m\n\u001b[0;32m--> 521\u001b[0;31m             \u001b[0;32mreturn\u001b[0m \u001b[0mfuture\u001b[0m\u001b[0;34m.\u001b[0m\u001b[0mresult\u001b[0m\u001b[0;34m(\u001b[0m\u001b[0mtimeout\u001b[0m\u001b[0;34m=\u001b[0m\u001b[0mtimeout\u001b[0m\u001b[0;34m)\u001b[0m\u001b[0;34m\u001b[0m\u001b[0;34m\u001b[0m\u001b[0m\n\u001b[0m\u001b[1;32m    522\u001b[0m         \u001b[0;32mexcept\u001b[0m \u001b[0mLokyTimeoutError\u001b[0m\u001b[0;34m:\u001b[0m\u001b[0;34m\u001b[0m\u001b[0;34m\u001b[0m\u001b[0m\n\u001b[1;32m    523\u001b[0m             \u001b[0;32mraise\u001b[0m \u001b[0mTimeoutError\u001b[0m\u001b[0;34m(\u001b[0m\u001b[0;34m)\u001b[0m\u001b[0;34m\u001b[0m\u001b[0;34m\u001b[0m\u001b[0m\n",
      "\u001b[0;32m//anaconda3/lib/python3.7/concurrent/futures/_base.py\u001b[0m in \u001b[0;36mresult\u001b[0;34m(self, timeout)\u001b[0m\n\u001b[1;32m    425\u001b[0m                 \u001b[0;32mreturn\u001b[0m \u001b[0mself\u001b[0m\u001b[0;34m.\u001b[0m\u001b[0m__get_result\u001b[0m\u001b[0;34m(\u001b[0m\u001b[0;34m)\u001b[0m\u001b[0;34m\u001b[0m\u001b[0;34m\u001b[0m\u001b[0m\n\u001b[1;32m    426\u001b[0m \u001b[0;34m\u001b[0m\u001b[0m\n\u001b[0;32m--> 427\u001b[0;31m             \u001b[0mself\u001b[0m\u001b[0;34m.\u001b[0m\u001b[0m_condition\u001b[0m\u001b[0;34m.\u001b[0m\u001b[0mwait\u001b[0m\u001b[0;34m(\u001b[0m\u001b[0mtimeout\u001b[0m\u001b[0;34m)\u001b[0m\u001b[0;34m\u001b[0m\u001b[0;34m\u001b[0m\u001b[0m\n\u001b[0m\u001b[1;32m    428\u001b[0m \u001b[0;34m\u001b[0m\u001b[0m\n\u001b[1;32m    429\u001b[0m             \u001b[0;32mif\u001b[0m \u001b[0mself\u001b[0m\u001b[0;34m.\u001b[0m\u001b[0m_state\u001b[0m \u001b[0;32min\u001b[0m \u001b[0;34m[\u001b[0m\u001b[0mCANCELLED\u001b[0m\u001b[0;34m,\u001b[0m \u001b[0mCANCELLED_AND_NOTIFIED\u001b[0m\u001b[0;34m]\u001b[0m\u001b[0;34m:\u001b[0m\u001b[0;34m\u001b[0m\u001b[0;34m\u001b[0m\u001b[0m\n",
      "\u001b[0;32m//anaconda3/lib/python3.7/threading.py\u001b[0m in \u001b[0;36mwait\u001b[0;34m(self, timeout)\u001b[0m\n\u001b[1;32m    294\u001b[0m         \u001b[0;32mtry\u001b[0m\u001b[0;34m:\u001b[0m    \u001b[0;31m# restore state no matter what (e.g., KeyboardInterrupt)\u001b[0m\u001b[0;34m\u001b[0m\u001b[0;34m\u001b[0m\u001b[0m\n\u001b[1;32m    295\u001b[0m             \u001b[0;32mif\u001b[0m \u001b[0mtimeout\u001b[0m \u001b[0;32mis\u001b[0m \u001b[0;32mNone\u001b[0m\u001b[0;34m:\u001b[0m\u001b[0;34m\u001b[0m\u001b[0;34m\u001b[0m\u001b[0m\n\u001b[0;32m--> 296\u001b[0;31m                 \u001b[0mwaiter\u001b[0m\u001b[0;34m.\u001b[0m\u001b[0macquire\u001b[0m\u001b[0;34m(\u001b[0m\u001b[0;34m)\u001b[0m\u001b[0;34m\u001b[0m\u001b[0;34m\u001b[0m\u001b[0m\n\u001b[0m\u001b[1;32m    297\u001b[0m                 \u001b[0mgotit\u001b[0m \u001b[0;34m=\u001b[0m \u001b[0;32mTrue\u001b[0m\u001b[0;34m\u001b[0m\u001b[0;34m\u001b[0m\u001b[0m\n\u001b[1;32m    298\u001b[0m             \u001b[0;32melse\u001b[0m\u001b[0;34m:\u001b[0m\u001b[0;34m\u001b[0m\u001b[0;34m\u001b[0m\u001b[0m\n",
      "\u001b[0;31mKeyboardInterrupt\u001b[0m: "
     ]
    }
   ],
   "source": [
    "# set the parameter grid\n",
    "xgb_param_grid ={'learning_rate': [0.01,0.05,0.1],\n",
    "                 'max_depth': [2,3,4],\n",
    "                 'min_child_weight': [3,4,5],\n",
    "                 'n_estimators': [100,200,300]}\n",
    "\n",
    "#grid search\n",
    "grid_search_xgb1 = GridSearchCV(xgb, xgb_param_grid, scoring='precision', cv= 3, n_jobs=-1, return_train_score = True)\n",
    "%time grid_search_xgb1.fit(X_train, y_train)"
   ]
  },
  {
   "cell_type": "code",
   "execution_count": null,
   "metadata": {},
   "outputs": [],
   "source": [
    "# get the best parameters\n",
    "print(grid_search_xgb1.best_params_)\n",
    "print(grid_search_xgb1.best_score_)"
   ]
  },
  {
   "cell_type": "code",
   "execution_count": null,
   "metadata": {},
   "outputs": [],
   "source": [
    "# get the training/test errors\n",
    "print(\"The training error is: %.5f\" % (1 - grid_search_xgb1.best_estimator_.score(X_train, y_train)))\n",
    "print(\"The test error is: %.5f\" % (1 - grid_search_xgb1.best_estimator_.score(X_test, y_test)))"
   ]
  },
  {
   "cell_type": "code",
   "execution_count": null,
   "metadata": {},
   "outputs": [],
   "source": [
    "cm_grid1 = confusion_matrix(y_test, grid_search_xgb1.best_estimator_.predict(X_test))\n",
    "cm_grid1"
   ]
  },
  {
   "cell_type": "code",
   "execution_count": null,
   "metadata": {},
   "outputs": [],
   "source": [
    "# set the parameter grid\n",
    "xgb_param_grid ={'learning_rate': [0.01,0.05,0.1],\n",
    "                 'max_depth': [4,5],\n",
    "                 'min_child_weight': [3,4,5],\n",
    "                 'n_estimators': [100,200,300]}\n",
    "\n",
    "#grid search\n",
    "grid_search_xgb2 = GridSearchCV(xgb, xgb_param_grid, scoring='recall', cv= 5, n_jobs=-1, return_train_score = True)\n",
    "%time grid_search_xgb2.fit(X_train, y_train)"
   ]
  },
  {
   "cell_type": "code",
   "execution_count": null,
   "metadata": {},
   "outputs": [],
   "source": [
    "# get the best parameters\n",
    "print(grid_search_xgb2.best_params_)\n",
    "print(grid_search_xgb2.best_score_)"
   ]
  },
  {
   "cell_type": "code",
   "execution_count": null,
   "metadata": {},
   "outputs": [],
   "source": [
    "# get the training/test errors\n",
    "print(\"The training error is: %.5f\" % (1 - grid_search_xgb2.best_estimator_.score(X_train, y_train)))\n",
    "print(\"The test error is: %.5f\" % (1 - grid_search_xgb2.best_estimator_.score(X_test, y_test)))"
   ]
  },
  {
   "cell_type": "code",
   "execution_count": null,
   "metadata": {},
   "outputs": [],
   "source": [
    "cm_grid2 = confusion_matrix(y_test, grid_search_xgb2.best_estimator_.predict(X_test))\n",
    "cm_grid2"
   ]
  },
  {
   "cell_type": "code",
   "execution_count": 68,
   "metadata": {},
   "outputs": [
    {
     "name": "stdout",
     "output_type": "stream",
     "text": [
      "Variable: OEGest_R10 Importance: 0.2592499852180481\n",
      "Variable: AB_AVEN1   Importance: 0.14889000356197357\n",
      "Variable: AB_ANTI    Importance: 0.10232999920845032\n",
      "Variable: APGAR5     Importance: 0.06413999944925308\n",
      "Variable: ME_ROUT    Importance: 0.05477999895811081\n",
      "Variable: BWTR12     Importance: 0.04682999849319458\n",
      "Variable: ITRAN      Importance: 0.04029000177979469\n",
      "Variable: GESTREC10  Importance: 0.03731999918818474\n",
      "Variable: LD_CHOR    Importance: 0.020320000126957893\n",
      "Variable: ILLB_R11   Importance: 0.013380000367760658\n",
      "Variable: LD_STER    Importance: 0.013260000385344028\n",
      "Variable: CA_CCHD    Importance: 0.01322999969124794\n",
      "Variable: AB_AVEN6   Importance: 0.01307000033557415\n",
      "Variable: RF_PDIAB   Importance: 0.013050000183284283\n",
      "Variable: SEX        Importance: 0.009639999829232693\n",
      "Variable: IP_HEPC    Importance: 0.009410000406205654\n",
      "Variable: RF_GDIAB   Importance: 0.009069999679923058\n",
      "Variable: FAGEREC11  Importance: 0.008489999920129776\n",
      "Variable: PRECARE5   Importance: 0.008179999887943268\n",
      "Variable: LD_ANES    Importance: 0.007670000195503235\n",
      "Variable: ATTEND     Importance: 0.007579999975860119\n",
      "Variable: ILIVE      Importance: 0.0069599999114871025\n",
      "Variable: PREVIS_REC Importance: 0.006769999861717224\n",
      "Variable: FRACEHISP  Importance: 0.005760000087320805\n",
      "Variable: CA_CLEFT   Importance: 0.005760000087320805\n",
      "Variable: CIG1_R     Importance: 0.00570000009611249\n",
      "Variable: AB_SURF    Importance: 0.005669999867677689\n",
      "Variable: PRIORLIVE  Importance: 0.0056500001810491085\n",
      "Variable: BFED       Importance: 0.005570000037550926\n",
      "Variable: CA_DOWN    Importance: 0.004920000210404396\n",
      "Variable: LD_ANTB    Importance: 0.004339999984949827\n",
      "Variable: BFACIL3    Importance: 0.0043299999088048935\n",
      "Variable: MM_AICU    Importance: 0.00431999983265996\n",
      "Variable: APGAR10    Importance: 0.00395999988541007\n",
      "Variable: BMI_R      Importance: 0.003449999960139394\n",
      "Variable: CIG0_R     Importance: 0.0030499999411404133\n",
      "Variable: MAGER9     Importance: 0.002899999963119626\n",
      "Variable: IP_SYPH    Importance: 0.0027199999894946814\n",
      "Variable: RF_GHYPE   Importance: 0.002630000002682209\n",
      "Variable: CIG2_R     Importance: 0.002409999957308173\n",
      "Variable: MTRAN      Importance: 0.002409999957308173\n",
      "Variable: PAY_REC    Importance: 0.0021200000774115324\n",
      "Variable: CA_CLPAL   Importance: 0.0012600000482052565\n",
      "Variable: MRACEHISP  Importance: 0.0012400000123307109\n",
      "Variable: CA_OMPH    Importance: 0.001069999998435378\n",
      "Variable: WTGAIN_REC Importance: 0.0010499999625608325\n",
      "Variable: DMAR       Importance: 0.0010000000474974513\n",
      "Variable: CA_MNSB    Importance: 0.0008500000112690032\n",
      "Variable: CA_GAST    Importance: 0.0007800000021234155\n",
      "Variable: RESTATUS   Importance: 0.0005000000237487257\n",
      "Variable: DOB_TT     Importance: 0.0002899999963119626\n",
      "Variable: MAR_P      Importance: 0.00023999999393709004\n",
      "Variable: RF_EHYPE   Importance: 0.00011999999696854502\n",
      "Variable: DOB_YY     Importance: 0.0\n",
      "Variable: DOB_MM     Importance: 0.0\n",
      "Variable: DOB_WK     Importance: 0.0\n",
      "Variable: MEDUC      Importance: 0.0\n",
      "Variable: FEDUC      Importance: 0.0\n",
      "Variable: PRIORDEAD  Importance: 0.0\n",
      "Variable: PRIORTERM  Importance: 0.0\n",
      "Variable: LBO_REC    Importance: 0.0\n",
      "Variable: TBO_REC    Importance: 0.0\n",
      "Variable: WIC        Importance: 0.0\n",
      "Variable: CIG3_R     Importance: 0.0\n",
      "Variable: RF_PHYPE   Importance: 0.0\n",
      "Variable: RF_PPTERM  Importance: 0.0\n",
      "Variable: RF_INFTR   Importance: 0.0\n",
      "Variable: RF_FEDRG   Importance: 0.0\n",
      "Variable: RF_ARTEC   Importance: 0.0\n",
      "Variable: RF_CESAR   Importance: 0.0\n",
      "Variable: RF_CESARN  Importance: 0.0\n",
      "Variable: IP_GON     Importance: 0.0\n",
      "Variable: IP_CHLAM   Importance: 0.0\n",
      "Variable: IP_HEPB    Importance: 0.0\n",
      "Variable: OB_ECVS    Importance: 0.0\n",
      "Variable: LD_INDL    Importance: 0.0\n",
      "Variable: LD_AUGM    Importance: 0.0\n",
      "Variable: ME_PRES    Importance: 0.0\n",
      "Variable: ME_TRIAL   Importance: 0.0\n",
      "Variable: MM_MTR     Importance: 0.0\n",
      "Variable: MM_PLAC    Importance: 0.0\n",
      "Variable: MM_RUPT    Importance: 0.0\n",
      "Variable: MM_UHYST   Importance: 0.0\n",
      "Variable: DPLURAL    Importance: 0.0\n",
      "Variable: AB_SEIZ    Importance: 0.0\n",
      "Variable: CA_ANEN    Importance: 0.0\n",
      "Variable: CA_CDH     Importance: 0.0\n",
      "Variable: CA_LIMB    Importance: 0.0\n",
      "Variable: CA_DISOR   Importance: 0.0\n",
      "Variable: CA_HYPO    Importance: 0.0\n",
      "Variable: RANDOM     Importance: 0.0\n"
     ]
    },
    {
     "data": {
      "text/plain": [
       "[None,\n",
       " None,\n",
       " None,\n",
       " None,\n",
       " None,\n",
       " None,\n",
       " None,\n",
       " None,\n",
       " None,\n",
       " None,\n",
       " None,\n",
       " None,\n",
       " None,\n",
       " None,\n",
       " None,\n",
       " None,\n",
       " None,\n",
       " None,\n",
       " None,\n",
       " None,\n",
       " None,\n",
       " None,\n",
       " None,\n",
       " None,\n",
       " None,\n",
       " None,\n",
       " None,\n",
       " None,\n",
       " None,\n",
       " None,\n",
       " None,\n",
       " None,\n",
       " None,\n",
       " None,\n",
       " None,\n",
       " None,\n",
       " None,\n",
       " None,\n",
       " None,\n",
       " None,\n",
       " None,\n",
       " None,\n",
       " None,\n",
       " None,\n",
       " None,\n",
       " None,\n",
       " None,\n",
       " None,\n",
       " None,\n",
       " None,\n",
       " None,\n",
       " None,\n",
       " None,\n",
       " None,\n",
       " None,\n",
       " None,\n",
       " None,\n",
       " None,\n",
       " None,\n",
       " None,\n",
       " None,\n",
       " None,\n",
       " None,\n",
       " None,\n",
       " None,\n",
       " None,\n",
       " None,\n",
       " None,\n",
       " None,\n",
       " None,\n",
       " None,\n",
       " None,\n",
       " None,\n",
       " None,\n",
       " None,\n",
       " None,\n",
       " None,\n",
       " None,\n",
       " None,\n",
       " None,\n",
       " None,\n",
       " None,\n",
       " None,\n",
       " None,\n",
       " None,\n",
       " None,\n",
       " None,\n",
       " None,\n",
       " None,\n",
       " None,\n",
       " None]"
      ]
     },
     "execution_count": 68,
     "metadata": {},
     "output_type": "execute_result"
    }
   ],
   "source": [
    "# Get numerical feature importances\n",
    "importances_xgb = list(xgb.feature_importances_)\n",
    "\n",
    "# List of tuples with variable and importance\n",
    "feature_importances_xgb = [(feature, round(importance, 5)) for feature, importance in zip(X_train.columns, importances_xgb)]\n",
    "\n",
    "# Sort the feature importances by most important first\n",
    "xgb_feature_importances = sorted(feature_importances_xgb, key = lambda x: x[1], reverse = True )\n",
    "\n",
    "# Print out the feature and importances \n",
    "[print('Variable: {:10} Importance: {}'.format(*pair)) for pair in xgb_feature_importances]"
   ]
  },
  {
   "cell_type": "code",
   "execution_count": 69,
   "metadata": {},
   "outputs": [
    {
     "data": {
      "text/plain": [
       "[('OEGest_R10', 0.25925),\n",
       " ('AB_AVEN1', 0.14889),\n",
       " ('AB_ANTI', 0.10233),\n",
       " ('APGAR5', 0.06414),\n",
       " ('ME_ROUT', 0.05478),\n",
       " ('BWTR12', 0.04683),\n",
       " ('ITRAN', 0.04029),\n",
       " ('GESTREC10', 0.03732),\n",
       " ('LD_CHOR', 0.02032),\n",
       " ('ILLB_R11', 0.01338),\n",
       " ('LD_STER', 0.01326),\n",
       " ('CA_CCHD', 0.01323),\n",
       " ('AB_AVEN6', 0.01307),\n",
       " ('RF_PDIAB', 0.01305),\n",
       " ('SEX', 0.00964),\n",
       " ('IP_HEPC', 0.00941),\n",
       " ('RF_GDIAB', 0.00907),\n",
       " ('FAGEREC11', 0.00849),\n",
       " ('PRECARE5', 0.00818),\n",
       " ('LD_ANES', 0.00767)]"
      ]
     },
     "execution_count": 69,
     "metadata": {},
     "output_type": "execute_result"
    }
   ],
   "source": [
    "xgb_feature_importances_top20 = xgb_feature_importances[:20]\n",
    "featureNames, featureScores = zip(*list(xgb_feature_importances_top20))\n",
    "xgb_feature_importances_top20"
   ]
  },
  {
   "cell_type": "code",
   "execution_count": null,
   "metadata": {},
   "outputs": [],
   "source": [
    "plt.barh(range(len(featureScores)), featureScores, tick_label=featureNames)\n",
    "plt.gca().invert_yaxis()\n",
    "plt.title('feature importance')\n",
    "plt.ylabel('Features')\n",
    "plt.xlabel('Importance Score')\n",
    "plt.title('Feature Importances')\n",
    "plt.savefig('xgbFI.png')"
   ]
  },
  {
   "cell_type": "code",
   "execution_count": null,
   "metadata": {},
   "outputs": [],
   "source": [
    "# Get numerical feature importances\n",
    "importances_grid_search_xgb1 = list(grid_search_xgb1.feature_importances_)\n",
    "\n",
    "# List of tuples with variable and importance\n",
    "feature_importances_xgb1 = [(feature, round(importance, 5)) for feature, importance in zip(X_train.columns, importances_grid_search_xgb1)]\n",
    "\n",
    "# Sort the feature importances by most important first\n",
    "xgb1_feature_importances = sorted(feature_importances_xgb1, key = lambda x: x[1], reverse = True )\n",
    "\n",
    "# Print out the feature and importances \n",
    "[print('Variable: {:10} Importance: {}'.format(*pair)) for pair in xgb1_feature_importances]"
   ]
  }
 ],
 "metadata": {
  "kernelspec": {
   "display_name": "Python 3",
   "language": "python",
   "name": "python3"
  },
  "language_info": {
   "codemirror_mode": {
    "name": "ipython",
    "version": 3
   },
   "file_extension": ".py",
   "mimetype": "text/x-python",
   "name": "python",
   "nbconvert_exporter": "python",
   "pygments_lexer": "ipython3",
   "version": "3.7.3"
  }
 },
 "nbformat": 4,
 "nbformat_minor": 2
}
