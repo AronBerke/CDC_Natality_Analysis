{
 "cells": [
  {
   "cell_type": "code",
   "execution_count": 1,
   "metadata": {},
   "outputs": [],
   "source": [
    "#import modules\n",
    "import pandas as pd\n",
    "import numpy as np\n",
    "import matplotlib.pyplot as plt\n",
    "import sklearn.model_selection as ms\n",
    "from sklearn.model_selection import train_test_split\n",
    "from sklearn import tree\n",
    "from sklearn import ensemble\n",
    "import re\n",
    "from sklearn.metrics import confusion_matrix"
   ]
  },
  {
   "cell_type": "code",
   "execution_count": 2,
   "metadata": {},
   "outputs": [],
   "source": [
    "#Import dataset\n",
    "\n",
    "# trimmed2018 = pd.read_csv('cdc2018trimmed.csv') #(84)\n",
    "\n",
    "# csv2018 = pd.read_csv('CSV2018.csv') # with bettina's function as well, (98 lol)\n",
    "\n",
    "trimwolabor2018 = pd.read_csv('cdc2018wolabor.csv') #(68)\n",
    "\n",
    "# trimmed2 = pd.read_csv('cdc2018trimmed2.csv') #(84)\n",
    "\n",
    "# trimmed2016 = pd.read_csv(\"CDC2016trimmed.csv\") #84.9\n",
    "\n",
    "# trimwolabor2016 = pd.read_csv('CDC2016wolabor.csv') #67.3\n",
    "\n",
    "# trimmed2017 = pd.read_csv('CDC2017trimmed.csv') #84.8\n"
   ]
  },
  {
   "cell_type": "code",
   "execution_count": 3,
   "metadata": {},
   "outputs": [],
   "source": [
    "#remove unknown AB_NICUs\n",
    "trimwolabor2018 = trimwolabor2018[trimwolabor2018['AB_NICU'].isin(['Y', 'N'])]"
   ]
  },
  {
   "cell_type": "code",
   "execution_count": 4,
   "metadata": {},
   "outputs": [],
   "source": [
    "def add_random_column_to_df (dataframe):\n",
    "    import random\n",
    "    mylist = []\n",
    "    for i in range(0, dataframe.shape[0]):\n",
    "        x = random.randint(1,1000)\n",
    "        mylist.append(x)\n",
    "    dataframe['RANDOM'] = mylist\n",
    "\n",
    "    return dataframe\n"
   ]
  },
  {
   "cell_type": "code",
   "execution_count": 5,
   "metadata": {},
   "outputs": [],
   "source": [
    "trimwolabor2018 = add_random_column_to_df(trimwolabor2018)"
   ]
  },
  {
   "cell_type": "code",
   "execution_count": 6,
   "metadata": {},
   "outputs": [],
   "source": [
    "# function to split out holdout test set\n",
    "def split_sets(dataframe, seed, test_prop=0.1): \n",
    "    '''\n",
    "    - A function that splits specifically a dataframe into a train and test portion\n",
    "    - Requires multiple assignment: train, test\n",
    "    ---------------\n",
    "    - dataframe: dataframe to be split\n",
    "    - seed: set seed for reproducability\n",
    "    - test_prop: takes a float - proportion of dataframe that should be allocated to the test set\n",
    "    '''\n",
    "\n",
    "    np.random.seed(seed)\n",
    "    testIdxes = np.random.choice(range(0,dataframe.shape[0]), size=round(dataframe.shape[0]*test_prop), replace=False)\n",
    "    trainIdxes = list(set(range(0,dataframe.shape[0])) - set(testIdxes))\n",
    "\n",
    "    train = dataframe.iloc[trainIdxes,:]\n",
    "    test  = dataframe.iloc[testIdxes,:]\n",
    "    \n",
    "    return train, test"
   ]
  },
  {
   "cell_type": "code",
   "execution_count": 7,
   "metadata": {},
   "outputs": [],
   "source": [
    "train, test = split_sets(trimwolabor2018, 0, test_prop=0.1)"
   ]
  },
  {
   "cell_type": "code",
   "execution_count": 8,
   "metadata": {},
   "outputs": [
    {
     "name": "stdout",
     "output_type": "stream",
     "text": [
      "(3418273, 55)\n",
      "(379808, 55)\n"
     ]
    }
   ],
   "source": [
    "print(train.shape)\n",
    "print(test.shape)"
   ]
  },
  {
   "cell_type": "code",
   "execution_count": 9,
   "metadata": {},
   "outputs": [],
   "source": [
    "dsample = train.copy()"
   ]
  },
  {
   "cell_type": "code",
   "execution_count": 10,
   "metadata": {},
   "outputs": [],
   "source": [
    "#LabelEncoding Function. Thanks Ira!\n",
    "def LabelEncoding(dataframe):\n",
    "    '''\n",
    "    Function that takes a dataframe and transforms it with label encoding on all the categorical features.\n",
    "    '''\n",
    "    \n",
    "    import pandas as pd\n",
    "    \n",
    "    #create a list using object types since dataframe.dtypes.value_counts() only shows objects and int64\n",
    "    objlist = list(dataframe.select_dtypes(include=['object']).columns)\n",
    "    \n",
    "    #change type then transform column using cat codes\n",
    "    for col in objlist:\n",
    "        dataframe[col] = dataframe[col].astype('category')\n",
    "        dataframe[col] = dataframe[col].cat.codes\n",
    "    \n",
    "    return dataframe"
   ]
  },
  {
   "cell_type": "code",
   "execution_count": 11,
   "metadata": {},
   "outputs": [
    {
     "name": "stderr",
     "output_type": "stream",
     "text": [
      "/anaconda3/lib/python3.7/site-packages/ipykernel_launcher.py:14: SettingWithCopyWarning: \n",
      "A value is trying to be set on a copy of a slice from a DataFrame.\n",
      "Try using .loc[row_indexer,col_indexer] = value instead\n",
      "\n",
      "See the caveats in the documentation: http://pandas.pydata.org/pandas-docs/stable/indexing.html#indexing-view-versus-copy\n",
      "  \n",
      "/anaconda3/lib/python3.7/site-packages/ipykernel_launcher.py:15: SettingWithCopyWarning: \n",
      "A value is trying to be set on a copy of a slice from a DataFrame.\n",
      "Try using .loc[row_indexer,col_indexer] = value instead\n",
      "\n",
      "See the caveats in the documentation: http://pandas.pydata.org/pandas-docs/stable/indexing.html#indexing-view-versus-copy\n",
      "  from ipykernel import kernelapp as app\n"
     ]
    }
   ],
   "source": [
    "#Label Encoded\n",
    "dsample = LabelEncoding(dsample)\n",
    "dtest = LabelEncoding(test)"
   ]
  },
  {
   "cell_type": "code",
   "execution_count": 12,
   "metadata": {},
   "outputs": [],
   "source": [
    "#test train split\n",
    "X_train = dsample.drop('AB_NICU', axis=1)\n",
    "y_train = dsample['AB_NICU']\n",
    "X_test = dtest.drop('AB_NICU', axis=1)\n",
    "y_test = dtest['AB_NICU']"
   ]
  },
  {
   "cell_type": "code",
   "execution_count": 13,
   "metadata": {},
   "outputs": [
    {
     "name": "stdout",
     "output_type": "stream",
     "text": [
      "(3418273, 54)\n",
      "(379808, 54)\n",
      "(3418273,)\n",
      "(379808,)\n"
     ]
    }
   ],
   "source": [
    "print(X_train.shape)\n",
    "print(X_test.shape)\n",
    "print(y_train.shape)\n",
    "print(y_test.shape)"
   ]
  },
  {
   "cell_type": "code",
   "execution_count": 14,
   "metadata": {},
   "outputs": [
    {
     "name": "stderr",
     "output_type": "stream",
     "text": [
      "/anaconda3/lib/python3.7/site-packages/sklearn/ensemble/forest.py:246: FutureWarning: The default value of n_estimators will change from 10 in version 0.20 to 100 in 0.22.\n",
      "  \"10 in version 0.20 to 100 in 0.22.\", FutureWarning)\n"
     ]
    },
    {
     "name": "stdout",
     "output_type": "stream",
     "text": [
      "The training error is: 0.01526\n",
      "The test     error is: 0.08863\n"
     ]
    }
   ],
   "source": [
    "#RANDOM FOREST INITIAL FIT-\n",
    "randomForest = ensemble.RandomForestClassifier(class_weight='balanced')\n",
    "randomForest.set_params(random_state=0)\n",
    "randomForest.fit(X_train, y_train) \n",
    "print(\"The training error is: %.5f\" % (1 - randomForest.score(X_train, y_train)))\n",
    "print(\"The test     error is: %.5f\" % (1 - randomForest.score(X_test, y_test)))"
   ]
  },
  {
   "cell_type": "code",
   "execution_count": 15,
   "metadata": {
    "scrolled": true
   },
   "outputs": [
    {
     "name": "stderr",
     "output_type": "stream",
     "text": [
      "/anaconda3/lib/python3.7/site-packages/sklearn/externals/joblib/externals/loky/process_executor.py:706: UserWarning: A worker stopped while some jobs were given to the executor. This can be caused by a too short worker timeout or by a memory leak.\n",
      "  \"timeout or by a memory leak.\", UserWarning\n"
     ]
    },
    {
     "name": "stdout",
     "output_type": "stream",
     "text": [
      "CPU times: user 11min 20s, sys: 24 s, total: 11min 44s\n",
      "Wall time: 6h 30min 24s\n"
     ]
    },
    {
     "data": {
      "text/plain": [
       "GridSearchCV(cv=5, error_score='raise-deprecating',\n",
       "       estimator=RandomForestClassifier(bootstrap=True, class_weight='balanced',\n",
       "            criterion='gini', max_depth=None, max_features='auto',\n",
       "            max_leaf_nodes=None, min_impurity_decrease=0.0,\n",
       "            min_impurity_split=None, min_samples_leaf=1,\n",
       "            min_samples_split=2, min_weight_fraction_leaf=0.0,\n",
       "            n_estimators=10, n_jobs=None, oob_score=False, random_state=0,\n",
       "            verbose=0, warm_start=False),\n",
       "       fit_params=None, iid='warn', n_jobs=-1,\n",
       "       param_grid={'criterion': ['gini', 'entropy'], 'max_depth': range(1, 16), 'n_estimators': range(10, 50, 30)},\n",
       "       pre_dispatch='2*n_jobs', refit=True, return_train_score='warn',\n",
       "       scoring='precision', verbose=0)"
      ]
     },
     "execution_count": 15,
     "metadata": {},
     "output_type": "execute_result"
    }
   ],
   "source": [
    "# set the parameter grid\n",
    "grid_para_forest = {\n",
    "    'criterion': ['gini', 'entropy'],\n",
    "    'max_depth': range(1, 16),\n",
    "    'n_estimators': range(10, 50, 30)\n",
    "}\n",
    "# GRID SEARCH\n",
    "grid_search_forest = ms.GridSearchCV(randomForest, grid_para_forest, scoring='precision', cv=5, n_jobs=-1,)\n",
    "%time grid_search_forest.fit(X_train, y_train)"
   ]
  },
  {
   "cell_type": "code",
   "execution_count": 16,
   "metadata": {},
   "outputs": [
    {
     "name": "stdout",
     "output_type": "stream",
     "text": [
      "{'criterion': 'gini', 'max_depth': 15, 'n_estimators': 40}\n"
     ]
    },
    {
     "data": {
      "text/plain": [
       "0.20852742852138675"
      ]
     },
     "execution_count": 16,
     "metadata": {},
     "output_type": "execute_result"
    }
   ],
   "source": [
    "#Best Params and Score\n",
    "print(grid_search_forest.best_params_)\n",
    "grid_search_forest.best_score_"
   ]
  },
  {
   "cell_type": "code",
   "execution_count": 17,
   "metadata": {},
   "outputs": [
    {
     "name": "stdout",
     "output_type": "stream",
     "text": [
      "The training error is: 0.22919\n",
      "The test     error is: 0.23293\n"
     ]
    }
   ],
   "source": [
    "# get the training/test errors\n",
    "print(\"The training error is: %.5f\" % (1 - grid_search_forest.best_estimator_.score(X_train, y_train)))\n",
    "print(\"The test     error is: %.5f\" % (1 - grid_search_forest.best_estimator_.score(X_test, y_test)))"
   ]
  },
  {
   "cell_type": "code",
   "execution_count": 18,
   "metadata": {},
   "outputs": [
    {
     "data": {
      "text/plain": [
       "[b'CA_HYPO',\n",
       " b'PREVIS_REC',\n",
       " b'MEDUC',\n",
       " b'FEDUC',\n",
       " b'FAGEREC11',\n",
       " b'WTGAIN_REC',\n",
       " b'BMI_R',\n",
       " b'MAGER9',\n",
       " b'DPLURAL',\n",
       " b'ILLB_R11']"
      ]
     },
     "execution_count": 18,
     "metadata": {},
     "output_type": "execute_result"
    }
   ],
   "source": [
    "#list of feature importance\n",
    "feature_importance = list(zip(dsample.columns, randomForest.feature_importances_))\n",
    "dtype = [('feature', 'S10'), ('importance', 'float')]\n",
    "feature_importance = np.array(feature_importance, dtype=dtype)\n",
    "feature_sort = np.sort(feature_importance, order='importance')[::-1]\n",
    "[i for (i, j) in feature_sort[0:10]]"
   ]
  },
  {
   "cell_type": "code",
   "execution_count": 19,
   "metadata": {},
   "outputs": [
    {
     "data": {
      "text/plain": [
       "array([[272089,  73257],\n",
       "       [ 15211,  19251]])"
      ]
     },
     "execution_count": 19,
     "metadata": {},
     "output_type": "execute_result"
    }
   ],
   "source": [
    "#CONFUSION MATRIX\n",
    "cm = confusion_matrix(y_test, grid_search_forest.best_estimator_.predict(X_test))\n",
    "cm"
   ]
  },
  {
   "cell_type": "code",
   "execution_count": 20,
   "metadata": {},
   "outputs": [
    {
     "data": {
      "text/plain": [
       "[(b'CA_HYPO', 0.17612295),\n",
       " (b'PREVIS_REC', 0.07619652),\n",
       " (b'MEDUC', 0.06222893),\n",
       " (b'FEDUC', 0.05682546),\n",
       " (b'FAGEREC11', 0.05048221),\n",
       " (b'WTGAIN_REC', 0.0492853),\n",
       " (b'BMI_R', 0.04680059),\n",
       " (b'MAGER9', 0.04479356),\n",
       " (b'DPLURAL', 0.04439295),\n",
       " (b'ILLB_R11', 0.04197418),\n",
       " (b'MRACEHISP', 0.02996029),\n",
       " (b'FRACEHISP', 0.02912985),\n",
       " (b'PRECARE5', 0.02502542),\n",
       " (b'TBO_REC', 0.02311279),\n",
       " (b'RESTATUS', 0.02087857),\n",
       " (b'WIC', 0.01904228),\n",
       " (b'PRIORTERM', 0.01826279),\n",
       " (b'RF_GHYPE', 0.01800263),\n",
       " (b'PRIORLIVE', 0.01714009),\n",
       " (b'MAR_P', 0.01634928),\n",
       " (b'LBO_REC', 0.01622178),\n",
       " (b'DMAR', 0.01445232),\n",
       " (b'CIG3_R', 0.01275025),\n",
       " (b'CIG0_R', 0.01034694),\n",
       " (b'RF_PPTERM', 0.00924824),\n",
       " (b'RF_CESARN', 0.00755203),\n",
       " (b'RF_GDIAB', 0.00695219),\n",
       " (b'RF_PHYPE', 0.00644934),\n",
       " (b'RF_PDIAB', 0.00619716),\n",
       " (b'CIG1_R', 0.00611393),\n",
       " (b'CIG2_R', 0.00484667),\n",
       " (b'IP_CHLAM', 0.004106),\n",
       " (b'RF_CESAR', 0.00381412),\n",
       " (b'CA_MNSB', 0.00283593),\n",
       " (b'RF_INFTR', 0.00277268),\n",
       " (b'PRIORDEAD', 0.00226087),\n",
       " (b'IP_HEPC', 0.00211831),\n",
       " (b'RF_ARTEC', 0.0017591),\n",
       " (b'RF_EHYPE', 0.00157584),\n",
       " (b'RF_FEDRG', 0.00150289),\n",
       " (b'CA_CLPAL', 0.00135756),\n",
       " (b'CA_OMPH', 0.00123418),\n",
       " (b'IP_GON', 0.00109868),\n",
       " (b'CA_DOWN', 0.0009829),\n",
       " (b'IP_SYPH', 0.00092854),\n",
       " (b'IP_HEPB', 0.00089677),\n",
       " (b'CA_LIMB', 0.00073845),\n",
       " (b'CA_ANEN', 0.00071638),\n",
       " (b'CA_CLEFT', 0.00056636),\n",
       " (b'CA_CCHD', 0.000484),\n",
       " (b'CA_DISOR', 0.00043796),\n",
       " (b'CA_CDH', 0.00038656),\n",
       " (b'CA_GAST', 0.00017638),\n",
       " (b'AB_NICU', 0.00011207)]"
      ]
     },
     "execution_count": 20,
     "metadata": {},
     "output_type": "execute_result"
    }
   ],
   "source": [
    "#Sorting feature importance\n",
    "sorted_features = sorted(feature_importance, key=lambda x: x[1], reverse=True)\n",
    "sorted_features"
   ]
  },
  {
   "cell_type": "code",
   "execution_count": 21,
   "metadata": {},
   "outputs": [
    {
     "data": {
      "text/plain": [
       "Text(0.5, 1.0, 'feature importance')"
      ]
     },
     "execution_count": 21,
     "metadata": {},
     "output_type": "execute_result"
    },
    {
     "data": {
      "image/png": "[encoded data removed]",
      "text/plain": [
       "<Figure size 432x288 with 1 Axes>"
      ]
     },
     "metadata": {
      "needs_background": "light"
     },
     "output_type": "display_data"
    }
   ],
   "source": [
    "# Plot\n",
    "features_top10 = sorted_features[:10]\n",
    "featureNames, featureScores = zip(*list(features_top10))\n",
    "plt.barh(range(len(featureScores)), featureScores, tick_label=featureNames)\n",
    "plt.title('feature importance')\n"
   ]
  },
  {
   "cell_type": "code",
   "execution_count": 22,
   "metadata": {},
   "outputs": [],
   "source": [
    "#Thanks Drucila!\n",
    "feature_importance = 100.0 * (randomForest.feature_importances_ / randomForest.feature_importances_.max())\n",
    "important_features = X_train.columns[feature_importance >= 10]\n",
    "unimportant_features = X_train.columns[feature_importance < 5]"
   ]
  },
  {
   "cell_type": "code",
   "execution_count": 23,
   "metadata": {},
   "outputs": [
    {
     "data": {
      "text/plain": [
       "Index(['MAGER9', 'RESTATUS', 'MRACEHISP', 'MEDUC', 'FAGEREC11', 'FRACEHISP',\n",
       "       'FEDUC', 'PRIORTERM', 'TBO_REC', 'ILLB_R11', 'PRECARE5', 'PREVIS_REC',\n",
       "       'WIC', 'BMI_R', 'WTGAIN_REC', 'RF_GHYPE', 'DPLURAL', 'RANDOM'],\n",
       "      dtype='object')"
      ]
     },
     "execution_count": 23,
     "metadata": {},
     "output_type": "execute_result"
    }
   ],
   "source": [
    "important_features"
   ]
  },
  {
   "cell_type": "code",
   "execution_count": 24,
   "metadata": {},
   "outputs": [
    {
     "data": {
      "text/plain": [
       "Index(['PRIORDEAD', 'CIG1_R', 'CIG2_R', 'RF_PDIAB', 'RF_GDIAB', 'RF_PHYPE',\n",
       "       'RF_EHYPE', 'RF_INFTR', 'RF_FEDRG', 'RF_ARTEC', 'RF_CESAR', 'RF_CESARN',\n",
       "       'IP_GON', 'IP_SYPH', 'IP_CHLAM', 'IP_HEPB', 'IP_HEPC', 'CA_ANEN',\n",
       "       'CA_MNSB', 'CA_CCHD', 'CA_CDH', 'CA_OMPH', 'CA_GAST', 'CA_LIMB',\n",
       "       'CA_CLEFT', 'CA_CLPAL', 'CA_DOWN', 'CA_DISOR', 'CA_HYPO'],\n",
       "      dtype='object')"
      ]
     },
     "execution_count": 24,
     "metadata": {},
     "output_type": "execute_result"
    }
   ],
   "source": [
    "unimportant_features"
   ]
  },
  {
   "cell_type": "code",
   "execution_count": null,
   "metadata": {},
   "outputs": [],
   "source": []
  }
 ],
 "metadata": {
  "kernelspec": {
   "display_name": "Python 3",
   "language": "python",
   "name": "python3"
  },
  "language_info": {
   "codemirror_mode": {
    "name": "ipython",
    "version": 3
   },
   "file_extension": ".py",
   "mimetype": "text/x-python",
   "name": "python",
   "nbconvert_exporter": "python",
   "pygments_lexer": "ipython3",
   "version": "3.7.3"
  }
 },
 "nbformat": 4,
 "nbformat_minor": 2
}
