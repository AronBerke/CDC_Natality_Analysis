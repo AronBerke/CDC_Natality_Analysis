{
 "cells": [
  {
   "cell_type": "code",
   "execution_count": 13,
   "metadata": {},
   "outputs": [],
   "source": [
    "#import modules\n",
    "import pandas as pd\n",
    "import numpy as np\n",
    "import matplotlib.pyplot as plt\n",
    "import sklearn.model_selection as ms\n",
    "from sklearn.model_selection import train_test_split\n",
    "from sklearn import tree\n",
    "from sklearn import ensemble\n",
    "import re"
   ]
  },
  {
   "cell_type": "code",
   "execution_count": 53,
   "metadata": {},
   "outputs": [],
   "source": [
    "#Import dataset\n",
    "\n",
    "# trimmed2018 = pd.read_csv('cdc2018trimmed.csv') #(84)\n",
    "# Top predictors(in order)\n",
    "# [b'BWTR12',\n",
    "#  b'GESTREC10',\n",
    "#  b'AB_AVEN1',\n",
    "#  b'AB_SURF',\n",
    "#  b'APGAR5',\n",
    "#  b'DOB_TT',\n",
    "#  b'PREVIS',\n",
    "#  b'DOB_MM',\n",
    "#  b'CA_HYPO',\n",
    "#  b'LD_STER']\n",
    "# csv2018 = pd.read_csv('CSV2018.csv') # with bettina's function as well, (98 lol)\n",
    "# Top predictors(in order)\n",
    "# [b'AB_SEIZ',\n",
    "#  b'COMBGEST',\n",
    "#  b'BWTR12',\n",
    "#  b'OEGest_R3',\n",
    "#  b'BWTR4',\n",
    "#  b'GESTREC10',\n",
    "#  b'GESTREC3',\n",
    "#  b'APGAR5R',\n",
    "#  b'AB_AVEN6',\n",
    "#  b'AB_SURF']\n",
    "\n",
    "# dsample = \n",
    "# trimwolabor2018 = pd.read_csv('cdc2018wolabor.csv') #(68)\n",
    "# Top predictors (in order)\n",
    "# [b'PREVIS_REC',\n",
    "#  b'MEDUC',\n",
    "#  b'FEDUC',\n",
    "#  b'WTGAIN_REC',\n",
    "#  b'FAGEREC11',\n",
    "#  b'BMI_R',\n",
    "#  b'MAGER9',\n",
    "#  b'ILLB_R11',\n",
    "#  b'DPLURAL',\n",
    "#  b'MRACEHISP']\n",
    "\n",
    "trimmed2 = pd.read_csv('cdc2018trimmed2.csv') #(84)\n",
    "# Top predictors (in order)\n",
    "# [b'BWTR12',\n",
    "#  b'GESTREC10',\n",
    "#  b'APGAR5',\n",
    "#  b'AB_SURF',\n",
    "#  b'AB_AVEN1',\n",
    "#  b'DOB_TT',\n",
    "#  b'PREVIS_REC',\n",
    "#  b'DOB_MM',\n",
    "#  b'LD_STER',\n",
    "#  b'AB_AVEN6']"
   ]
  },
  {
   "cell_type": "code",
   "execution_count": 54,
   "metadata": {},
   "outputs": [],
   "source": [
    "dsample = trimmed2"
   ]
  },
  {
   "cell_type": "code",
   "execution_count": 4,
   "metadata": {},
   "outputs": [],
   "source": [
    "#Downsample function, thanks Bettina and Aron!\n",
    "def downsample_df (df):\n",
    "\n",
    "    '''\n",
    "    Remove undefined information on NICU admissions (AB_NICU == 'U'),\n",
    "    create a binary target vector, and create a \"balanced\" dataframe\n",
    "    with all NICU admissions and matching numbers of randomly selected non-NICU admissions.\n",
    "    '''\n",
    "\n",
    "    import pandas as pd\n",
    "    import numpy as np\n",
    "\n",
    "    # remove unknown class from df\n",
    "    df_no_unknown = df[df['AB_NICU'].isin(['Y', 'N'])]\n",
    "\n",
    "    # Create binary target vector, NICU = yes classified as class 0\n",
    "    df_y_n = np.where((df_no_unknown['AB_NICU'] == 'Y'), 0, 1)\n",
    "\n",
    "    # Get indicies of each class' observations\n",
    "    index_class0 = np.where(df_y_n == 0)[0]\n",
    "    index_class1 = np.where(df_y_n == 1)[0]\n",
    "\n",
    "    # Get numbers of observations in class 0\n",
    "    n_class0 = len(index_class0)\n",
    "\n",
    "    # Randomly sample the same number of observations from class 1 as in class 0, without replacement\n",
    "    np.random.seed(0)\n",
    "    index_class1_downsampled = np.random.choice(index_class1, size=n_class0, replace=False)\n",
    "\n",
    "    # Create dataframes for NICU and downsampled non-NICU\n",
    "    df_defect = df_no_unknown.iloc[index_class0]\n",
    "    df_adj_NONdefect = df_no_unknown.iloc[index_class1_downsampled]\n",
    "\n",
    "    # Append into 1 dataframe\n",
    "    df_downsampled = df_defect.append(df_adj_NONdefect)\n",
    "\n",
    "    return df_downsampled"
   ]
  },
  {
   "cell_type": "code",
   "execution_count": 55,
   "metadata": {},
   "outputs": [],
   "source": [
    "#Downsampled\n",
    "dsample = downsample_df(dsample)"
   ]
  },
  {
   "cell_type": "code",
   "execution_count": 7,
   "metadata": {},
   "outputs": [],
   "source": [
    "def create_reduced_df (df, list_to_drop):\n",
    "\n",
    "    '''\n",
    "    Function to choose columns from dataframe for label encoding. Takes the data frame and the columns to drop\n",
    "    as a list.\n",
    "    '''\n",
    "\n",
    "    import pandas as pd\n",
    "    import numpy as np\n",
    "\n",
    "    # create list of flags, territory info and imputed info likely to be dropped together\n",
    "    flags = list(filter(lambda i: re.search('\\AF_',i) , df.columns))\n",
    "    territory_info = ['OCTERR','OCNTYFIPS', 'OCNTYPOP', 'MBCNTRY', 'MRCNTRY', 'MRTERR', 'RCNTY', 'RCNTY_POP', 'RCNTY_POP',\n",
    "                 'RCITY_POP', 'RECTYPE']\n",
    "    imputed_info = ['MAGE_IMPFLG', 'MAGE_REPFLG', 'MRACEIMP','MAR_IMP', 'FAGERPT_FLG', 'IMP_PLUR', 'IMP_SEX',\n",
    "                'COMPGST_IMP', 'OBGEST_FLG', 'LMPUSED']\n",
    "\n",
    "    # create a copy of dataframe\n",
    "    df2 = df.copy()\n",
    "\n",
    "    # compare columns in case they have already been dropped in the input df\n",
    "    \n",
    "\n",
    "    # drop columns\n",
    "    for feature in list_to_drop:\n",
    "        #if ~feature.isin(df2.colunms):\n",
    "        #    except ValueError:\n",
    "        #    print(\"Column name does not exist\")\n",
    "        if feature == 'flag':\n",
    "            df2.drop(flags, inplace = True, axis=1)\n",
    "        elif feature == 'territory':\n",
    "            df2.drop(territory_info, inplace = True, axis=1)\n",
    "        elif feature == 'imputed':\n",
    "            df2.drop(imputed_info, inplace = True, axis=1)\n",
    "        else:\n",
    "            df2.drop(feature, inplace = True, axis=1)\n",
    "\n",
    "    return df2"
   ]
  },
  {
   "cell_type": "code",
   "execution_count": 15,
   "metadata": {},
   "outputs": [],
   "source": [
    "# create list of flags, territory info and imputed info likely to be dropped together\n",
    "flags = list(filter(lambda i: re.search('\\AF_',i) , dsample.columns))\n",
    "territory_info = ['OCTERR','OCNTYFIPS', 'OCNTYPOP', 'MBCNTRY', 'MRCNTRY', 'MRTERR', 'RCNTY', 'RCNTY_POP',\n",
    "                 'RCITY_POP', 'RECTYPE']\n",
    "imputed_info = ['MAGE_IMPFLG', 'MAGE_REPFLG', 'MRACEIMP','MAR_IMP', 'FAGERPT_FLG', 'IMP_PLUR', 'IMP_SEX',\n",
    "                'COMPGST_IMP', 'OBGEST_FLG', 'LMPUSED']\n",
    "dsample = create_reduced_df(dsample,flags)\n",
    "dsample = create_reduced_df(dsample,territory_info)\n",
    "dsample = create_reduced_df(dsample,imputed_info)"
   ]
  },
  {
   "cell_type": "code",
   "execution_count": 17,
   "metadata": {},
   "outputs": [],
   "source": [
    "#LabelEncoding Function. Thanks Ira!\n",
    "def LabelEncoding(dataframe):\n",
    "    '''\n",
    "    Function that takes a dataframe and transforms it with label encoding on all the categorical features.\n",
    "    '''\n",
    "    \n",
    "    import pandas as pd\n",
    "    \n",
    "    #create a list using object types since dataframe.dtypes.value_counts() only shows objects and int64\n",
    "    objlist = list(dataframe.select_dtypes(include=['object']).columns)\n",
    "    \n",
    "    #change type then transform column using cat codes\n",
    "    for col in objlist:\n",
    "        dataframe[col] = dataframe[col].astype('category')\n",
    "        dataframe[col] = dataframe[col].cat.codes\n",
    "    \n",
    "    return dataframe"
   ]
  },
  {
   "cell_type": "code",
   "execution_count": 56,
   "metadata": {},
   "outputs": [],
   "source": [
    "#Label Encoded\n",
    "dsample = LabelEncoding(dsample)"
   ]
  },
  {
   "cell_type": "code",
   "execution_count": 19,
   "metadata": {},
   "outputs": [],
   "source": [
    "def targetchoice(column,dataframe):\n",
    "    '''\n",
    "    Takes a column and a dataframe, returns four values for;\n",
    "    x_train, X_test, y_train, and y_test\n",
    "    '''\n",
    "    from sklearn.model_selection import train_test_split\n",
    "    \n",
    "    #Cutting the data and target dataframes\n",
    "    sample_data = dataframe.loc[:, dsample.columns != column ]\n",
    "    sample_target = dataframe.loc[:,column]\n",
    "    \n",
    "    #assigning to variables\n",
    "    X_train, X_test, y_train, y_test = train_test_split(sample_data, sample_target, test_size=0.2, random_state=0)\n",
    "    \n",
    "    #appending to a list to return for multi-assignment\n",
    "    varlist = []\n",
    "    varlist.append(X_train)\n",
    "    varlist.append(X_test)\n",
    "    varlist.append(y_train)\n",
    "    varlist.append(y_test)\n",
    "    return varlist\n",
    "\n",
    "#format is \"X_train, X_test, y_train, y_test = targetchoice()\""
   ]
  },
  {
   "cell_type": "code",
   "execution_count": 57,
   "metadata": {},
   "outputs": [],
   "source": [
    "X_train, X_test, y_train, y_test = targetchoice('AB_NICU',dsample)"
   ]
  },
  {
   "cell_type": "code",
   "execution_count": 29,
   "metadata": {},
   "outputs": [
    {
     "data": {
      "text/plain": [
       "['DMAR']"
      ]
     },
     "execution_count": 29,
     "metadata": {},
     "output_type": "execute_result"
    }
   ],
   "source": [
    "X_train.columns[X_train.isna().any()].tolist()"
   ]
  },
  {
   "cell_type": "code",
   "execution_count": 35,
   "metadata": {},
   "outputs": [],
   "source": [
    "X_train.loc[:, \"DMAR\"] = X_train.loc[:, \"DMAR\"].fillna(9.0)\n",
    "X_test.loc[:, \"DMAR\"] = X_test.loc[:, \"DMAR\"].fillna(9.0)"
   ]
  },
  {
   "cell_type": "code",
   "execution_count": 58,
   "metadata": {},
   "outputs": [
    {
     "name": "stderr",
     "output_type": "stream",
     "text": [
      "/anaconda3/lib/python3.7/site-packages/sklearn/ensemble/forest.py:246: FutureWarning: The default value of n_estimators will change from 10 in version 0.20 to 100 in 0.22.\n",
      "  \"10 in version 0.20 to 100 in 0.22.\", FutureWarning)\n"
     ]
    },
    {
     "name": "stdout",
     "output_type": "stream",
     "text": [
      "The training error is: 0.01315\n",
      "The test     error is: 0.16379\n"
     ]
    }
   ],
   "source": [
    "#RANDOM FOREST INITIAL FIT-\n",
    "randomForest = ensemble.RandomForestClassifier()\n",
    "randomForest.set_params(random_state=0)\n",
    "randomForest.fit(X_train, y_train) \n",
    "print(\"The training error is: %.5f\" % (1 - randomForest.score(X_train, y_train)))\n",
    "print(\"The test     error is: %.5f\" % (1 - randomForest.score(X_test, y_test)))"
   ]
  },
  {
   "cell_type": "code",
   "execution_count": 59,
   "metadata": {},
   "outputs": [
    {
     "name": "stdout",
     "output_type": "stream",
     "text": [
      "CPU times: user 1min 41s, sys: 3.6 s, total: 1min 45s\n",
      "Wall time: 59min 23s\n"
     ]
    },
    {
     "data": {
      "text/plain": [
       "GridSearchCV(cv=5, error_score='raise-deprecating',\n",
       "       estimator=RandomForestClassifier(bootstrap=True, class_weight=None, criterion='gini',\n",
       "            max_depth=None, max_features='auto', max_leaf_nodes=None,\n",
       "            min_impurity_decrease=0.0, min_impurity_split=None,\n",
       "            min_samples_leaf=1, min_samples_split=2,\n",
       "            min_weight_fraction_leaf=0.0, n_estimators=10, n_jobs=None,\n",
       "            oob_score=False, random_state=0, verbose=0, warm_start=False),\n",
       "       fit_params=None, iid='warn', n_jobs=-1,\n",
       "       param_grid={'criterion': ['gini', 'entropy'], 'max_depth': range(1, 16), 'n_estimators': range(10, 50, 30)},\n",
       "       pre_dispatch='2*n_jobs', refit=True, return_train_score='warn',\n",
       "       scoring='accuracy', verbose=0)"
      ]
     },
     "execution_count": 59,
     "metadata": {},
     "output_type": "execute_result"
    }
   ],
   "source": [
    "# set the parameter grid\n",
    "grid_para_forest = {\n",
    "    'criterion': ['gini', 'entropy'],\n",
    "    'max_depth': range(1, 16),\n",
    "    'n_estimators': range(10, 50, 30)\n",
    "}\n",
    "# grid search\n",
    "grid_search_forest = ms.GridSearchCV(randomForest, grid_para_forest, scoring='accuracy', cv=5, n_jobs=-1,)\n",
    "%time grid_search_forest.fit(X_train, y_train)"
   ]
  },
  {
   "cell_type": "code",
   "execution_count": 65,
   "metadata": {},
   "outputs": [
    {
     "name": "stdout",
     "output_type": "stream",
     "text": [
      "{'criterion': 'entropy', 'max_depth': 15, 'n_estimators': 40}\n"
     ]
    },
    {
     "data": {
      "text/plain": [
       "0.8429672966972866"
      ]
     },
     "execution_count": 65,
     "metadata": {},
     "output_type": "execute_result"
    }
   ],
   "source": [
    "# Best Params so far: {'criterion': 'gini', 'max_depth': 15, 'n_estimators': 40}\n",
    "# 0.8431166186317793\n",
    "print(grid_search_forest.best_params_)\n",
    "grid_search_forest.best_score_"
   ]
  },
  {
   "cell_type": "code",
   "execution_count": 61,
   "metadata": {},
   "outputs": [
    {
     "name": "stdout",
     "output_type": "stream",
     "text": [
      "The training error is: 0.15152\n",
      "The test     error is: 0.15729\n"
     ]
    }
   ],
   "source": [
    "# get the training/test errors\n",
    "print(\"The training error is: %.5f\" % (1 - grid_search_forest.best_estimator_.score(X_train, y_train)))\n",
    "print(\"The test     error is: %.5f\" % (1 - grid_search_forest.best_estimator_.score(X_test, y_test)))"
   ]
  },
  {
   "cell_type": "code",
   "execution_count": 66,
   "metadata": {},
   "outputs": [
    {
     "data": {
      "text/plain": [
       "[b'BWTR12',\n",
       " b'GESTREC10',\n",
       " b'APGAR5',\n",
       " b'AB_SURF',\n",
       " b'AB_AVEN1',\n",
       " b'DOB_TT',\n",
       " b'PREVIS_REC',\n",
       " b'DOB_MM',\n",
       " b'LD_STER',\n",
       " b'AB_AVEN6']"
      ]
     },
     "execution_count": 66,
     "metadata": {},
     "output_type": "execute_result"
    }
   ],
   "source": [
    "#list of feature importance\n",
    "feature_importance = list(zip(dsample.columns, randomForest.feature_importances_))\n",
    "dtype = [('feature', 'S10'), ('importance', 'float')]\n",
    "feature_importance = np.array(feature_importance, dtype=dtype)\n",
    "feature_sort = np.sort(feature_importance, order='importance')[::-1]\n",
    "[i for (i, j) in feature_sort[0:10]]"
   ]
  },
  {
   "cell_type": "code",
   "execution_count": 67,
   "metadata": {},
   "outputs": [
    {
     "data": {
      "text/plain": [
       "[(b'BWTR12', 0.15133655),\n",
       " (b'GESTREC10', 0.07521753),\n",
       " (b'APGAR5', 0.06401058),\n",
       " (b'AB_SURF', 0.05469951),\n",
       " (b'AB_AVEN1', 0.04936121),\n",
       " (b'DOB_TT', 0.04179108),\n",
       " (b'PREVIS_REC', 0.03083752),\n",
       " (b'DOB_MM', 0.02719348),\n",
       " (b'LD_STER', 0.02547341),\n",
       " (b'AB_AVEN6', 0.0241546),\n",
       " (b'DOB_WK', 0.02247774),\n",
       " (b'CA_HYPO', 0.02077984),\n",
       " (b'ME_ROUT', 0.02069271),\n",
       " (b'MEDUC', 0.01994583),\n",
       " (b'WTGAIN_REC', 0.01895786),\n",
       " (b'FEDUC', 0.01850038),\n",
       " (b'BMI_R', 0.01803314),\n",
       " (b'FAGEREC11', 0.0177845),\n",
       " (b'MAGER9', 0.01703772),\n",
       " (b'ILLB_R11', 0.01577416),\n",
       " (b'TBO_REC', 0.01238794),\n",
       " (b'MRACEHISP', 0.01223712),\n",
       " (b'FRACEHISP', 0.01197857),\n",
       " (b'APGAR10', 0.01159712),\n",
       " (b'ME_TRIAL', 0.01097646),\n",
       " (b'PAY_REC', 0.00967653),\n",
       " (b'PRIORTERM', 0.00933966),\n",
       " (b'PRIORLIVE', 0.00911392),\n",
       " (b'LD_CHOR', 0.00900267),\n",
       " (b'PRECARE5', 0.00899652),\n",
       " (b'RESTATUS', 0.00896987),\n",
       " (b'LBO_REC', 0.00881184),\n",
       " (b'LD_ANTB', 0.00858689),\n",
       " (b'MAR_P', 0.00822241),\n",
       " (b'DPLURAL', 0.00807265),\n",
       " (b'ILIVE', 0.00773857),\n",
       " (b'SEX', 0.0072397),\n",
       " (b'ATTEND', 0.00707127),\n",
       " (b'DMAR', 0.00700649),\n",
       " (b'WIC', 0.00665798),\n",
       " (b'LD_INDL', 0.00621586),\n",
       " (b'LD_AUGM', 0.00580715),\n",
       " (b'RF_GHYPE', 0.00572652),\n",
       " (b'LD_ANES', 0.00532291),\n",
       " (b'CIG0_R', 0.00409388),\n",
       " (b'AB_NICU', 0.0040677),\n",
       " (b'RF_GDIAB', 0.00378243),\n",
       " (b'ME_PRES', 0.00371629),\n",
       " (b'RF_CESARN', 0.00362554),\n",
       " (b'RF_PPTERM', 0.00310256),\n",
       " (b'RF_PDIAB', 0.00303904),\n",
       " (b'CIG1_R', 0.00300292),\n",
       " (b'CIG2_R', 0.00255035),\n",
       " (b'CIG3_R', 0.00254283),\n",
       " (b'RF_PHYPE', 0.0024823),\n",
       " (b'RF_CESAR', 0.00242473),\n",
       " (b'ITRAN', 0.00174604),\n",
       " (b'CA_MNSB', 0.00164402),\n",
       " (b'IP_HEPC', 0.00162377),\n",
       " (b'IP_CHLAM', 0.00154472),\n",
       " (b'MTRAN', 0.0014272),\n",
       " (b'RF_FEDRG', 0.00130106),\n",
       " (b'RF_ARTEC', 0.0012794),\n",
       " (b'PRIORDEAD', 0.00104366),\n",
       " (b'RF_INFTR', 0.00097852),\n",
       " (b'MM_PLAC', 0.00080117),\n",
       " (b'CA_CLPAL', 0.00069876),\n",
       " (b'MM_MTR', 0.00063702),\n",
       " (b'IP_SYPH', 0.00061115),\n",
       " (b'CA_LIMB', 0.00061),\n",
       " (b'BFACIL3', 0.00057981),\n",
       " (b'MM_AICU', 0.00052513),\n",
       " (b'IP_GON', 0.00048367),\n",
       " (b'IP_HEPB', 0.00046232),\n",
       " (b'RF_EHYPE', 0.00042372),\n",
       " (b'CA_DOWN', 0.00027046),\n",
       " (b'CA_CLEFT', 0.00026791),\n",
       " (b'CA_ANEN', 0.00026592),\n",
       " (b'OB_ECVS', 0.00025051),\n",
       " (b'CA_OMPH', 0.00021443),\n",
       " (b'CA_DISOR', 0.00020866),\n",
       " (b'AB_ANTI', 0.00019556),\n",
       " (b'CA_CCHD', 0.0001779),\n",
       " (b'CA_CDH', 0.00013357),\n",
       " (b'MM_UHYST', 0.00010289),\n",
       " (b'MM_RUPT', 9.79103439e-05),\n",
       " (b'CA_GAST', 7.56438303e-05),\n",
       " (b'AB_SEIZ', 7.09698456e-05),\n",
       " (b'DOB_YY', 0.)]"
      ]
     },
     "execution_count": 67,
     "metadata": {},
     "output_type": "execute_result"
    }
   ],
   "source": [
    "#Sorting feature importance\n",
    "sorted_features = sorted(feature_importance, key=lambda x: x[1], reverse=True)\n",
    "sorted_features"
   ]
  },
  {
   "cell_type": "code",
   "execution_count": 64,
   "metadata": {},
   "outputs": [
    {
     "data": {
      "text/plain": [
       "Text(0.5, 1.0, 'feature importance')"
      ]
     },
     "execution_count": 64,
     "metadata": {},
     "output_type": "execute_result"
    },
    {
     "data": {
      "image/png": "[encoded data removed]",
      "text/plain": [
       "<Figure size 432x288 with 1 Axes>"
      ]
     },
     "metadata": {
      "needs_background": "light"
     },
     "output_type": "display_data"
    }
   ],
   "source": [
    "# Plot\n",
    "features_top10 = sorted_features[:10]\n",
    "featureNames, featureScores = zip(*list(features_top10))\n",
    "plt.barh(range(len(featureScores)), featureScores, tick_label=featureNames)\n",
    "plt.title('feature importance')\n"
   ]
  },
  {
   "cell_type": "code",
   "execution_count": 49,
   "metadata": {},
   "outputs": [],
   "source": [
    "#Thanks Drucila!\n",
    "feature_importance = 100.0 * (randomForest.feature_importances_ / randomForest.feature_importances_.max())\n",
    "important_features = X_train.columns[feature_importance >= 10]\n",
    "unimportant_features = X_train.columns[feature_importance < 5]"
   ]
  },
  {
   "cell_type": "code",
   "execution_count": 50,
   "metadata": {},
   "outputs": [
    {
     "data": {
      "text/plain": [
       "Index(['MAGER9', 'RESTATUS', 'MRACEHISP', 'MAR_P', 'DMAR', 'MEDUC',\n",
       "       'FAGEREC11', 'FRACEHISP', 'FEDUC', 'PRIORLIVE', 'PRIORTERM', 'LBO_REC',\n",
       "       'TBO_REC', 'ILLB_R11', 'PRECARE5', 'PREVIS_REC', 'WIC', 'CIG0_R',\n",
       "       'CIG3_R', 'BMI_R', 'WTGAIN_REC', 'RF_GHYPE', 'RF_PPTERM', 'DPLURAL'],\n",
       "      dtype='object')"
      ]
     },
     "execution_count": 50,
     "metadata": {},
     "output_type": "execute_result"
    }
   ],
   "source": [
    "important_features"
   ]
  },
  {
   "cell_type": "code",
   "execution_count": 51,
   "metadata": {},
   "outputs": [
    {
     "data": {
      "text/plain": [
       "Index(['PRIORDEAD', 'RF_EHYPE', 'RF_INFTR', 'RF_FEDRG', 'RF_ARTEC', 'IP_GON',\n",
       "       'IP_SYPH', 'IP_HEPB', 'IP_HEPC', 'CA_ANEN', 'CA_MNSB', 'CA_CCHD',\n",
       "       'CA_CDH', 'CA_OMPH', 'CA_GAST', 'CA_LIMB', 'CA_CLEFT', 'CA_CLPAL',\n",
       "       'CA_DOWN', 'CA_DISOR', 'CA_HYPO'],\n",
       "      dtype='object')"
      ]
     },
     "execution_count": 51,
     "metadata": {},
     "output_type": "execute_result"
    }
   ],
   "source": [
    "unimportant_features"
   ]
  },
  {
   "cell_type": "code",
   "execution_count": null,
   "metadata": {},
   "outputs": [],
   "source": []
  }
 ],
 "metadata": {
  "kernelspec": {
   "display_name": "Python 3",
   "language": "python",
   "name": "python3"
  },
  "language_info": {
   "codemirror_mode": {
    "name": "ipython",
    "version": 3
   },
   "file_extension": ".py",
   "mimetype": "text/x-python",
   "name": "python",
   "nbconvert_exporter": "python",
   "pygments_lexer": "ipython3",
   "version": "3.7.3"
  }
 },
 "nbformat": 4,
 "nbformat_minor": 2
}
