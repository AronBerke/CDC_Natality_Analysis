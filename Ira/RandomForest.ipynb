{
 "cells": [
  {
   "cell_type": "code",
   "execution_count": 1,
   "metadata": {},
   "outputs": [],
   "source": [
    "#import modules\n",
    "import pandas as pd\n",
    "import numpy as np\n",
    "import matplotlib.pyplot as plt\n",
    "import sklearn.model_selection as ms\n",
    "from sklearn.model_selection import train_test_split\n",
    "from sklearn import tree\n",
    "from sklearn import ensemble"
   ]
  },
  {
   "cell_type": "code",
   "execution_count": 3,
   "metadata": {},
   "outputs": [
    {
     "name": "stderr",
     "output_type": "stream",
     "text": [
      "/anaconda3/lib/python3.7/site-packages/IPython/core/interactiveshell.py:3049: DtypeWarning: Columns (9) have mixed types. Specify dtype option on import or set low_memory=False.\n",
      "  interactivity=interactivity, compiler=compiler, result=result)\n"
     ]
    }
   ],
   "source": [
    "#Import dataset\n",
    "trimmed2018 = pd.read_csv('cdc2018trimmed.csv')\n",
    "# csv2018 = pd.read_csv('CSV2018.csv')\n",
    "# dsample = "
   ]
  },
  {
   "cell_type": "code",
   "execution_count": 5,
   "metadata": {},
   "outputs": [],
   "source": [
    "dsample = trimmed2018"
   ]
  },
  {
   "cell_type": "code",
   "execution_count": 4,
   "metadata": {},
   "outputs": [],
   "source": [
    "#Downsample function, thanks Bettina and Aron!\n",
    "def downsample_df (df):\n",
    "\n",
    "    '''\n",
    "    Remove undefined information on NICU admissions (AB_NICU == 'U'),\n",
    "    create a binary target vector, and create a \"balanced\" dataframe\n",
    "    with all NICU admissions and matching numbers of randomly selected non-NICU admissions.\n",
    "    '''\n",
    "\n",
    "    import pandas as pd\n",
    "    import numpy as np\n",
    "\n",
    "    # remove unknown class from df\n",
    "    df_no_unknown = df[df['AB_NICU'].isin(['Y', 'N'])]\n",
    "\n",
    "    # Create binary target vector, NICU = yes classified as class 0\n",
    "    df_y_n = np.where((df_no_unknown['AB_NICU'] == 'Y'), 0, 1)\n",
    "\n",
    "    # Get indicies of each class' observations\n",
    "    index_class0 = np.where(df_y_n == 0)[0]\n",
    "    index_class1 = np.where(df_y_n == 1)[0]\n",
    "\n",
    "    # Get numbers of observations in class 0\n",
    "    n_class0 = len(index_class0)\n",
    "\n",
    "    # Randomly sample the same number of observations from class 1 as in class 0, without replacement\n",
    "    np.random.seed(0)\n",
    "    index_class1_downsampled = np.random.choice(index_class1, size=n_class0, replace=False)\n",
    "\n",
    "    # Create dataframes for NICU and downsampled non-NICU\n",
    "    df_defect = df_no_unknown.iloc[index_class0]\n",
    "    df_adj_NONdefect = df_no_unknown.iloc[index_class1_downsampled]\n",
    "\n",
    "    # Append into 1 dataframe\n",
    "    df_downsampled = df_defect.append(df_adj_NONdefect)\n",
    "\n",
    "    return df_downsampled"
   ]
  },
  {
   "cell_type": "code",
   "execution_count": 6,
   "metadata": {},
   "outputs": [],
   "source": [
    "#Downsampled\n",
    "dsample = downsample_df(dsample)"
   ]
  },
  {
   "cell_type": "code",
   "execution_count": null,
   "metadata": {},
   "outputs": [],
   "source": [
    "def create_reduced_df (df, list_to_drop):\n",
    "\n",
    "    '''\n",
    "    Function to choose columns from dataframe for label encoding. Takes the data frame and the columns to drop\n",
    "    as a list.\n",
    "    '''\n",
    "\n",
    "    import pandas as pd\n",
    "    import numpy as np\n",
    "\n",
    "    # create list of flags, territory info and imputed info likely to be dropped together\n",
    "    flags = list(filter(lambda i: re.search('\\AF_',i) , df.columns))\n",
    "    territory_info = ['OCTERR','OCNTYFIPS', 'OCNTYPOP', 'MBCNTRY', 'MRCNTRY', 'MRTERR', 'RCNTY', 'RCNTY_POP', 'RCNTY_POP',\n",
    "                 'RCITY_POP', 'RECTYPE']\n",
    "    imputed_info = ['MAGE_IMPFLG', 'MAGE_REPFLG', 'MRACEIMP','MAR_IMP', 'FAGERPT_FLG', 'IMP_PLUR', 'IMP_SEX',\n",
    "                'COMPGST_IMP', 'OBGEST_FLG', 'LMPUSED']\n",
    "\n",
    "    # create a copy of dataframe\n",
    "    df2 = df.copy()\n",
    "\n",
    "    # compare columns in case they have already been dropped in the input df\n",
    "    \n",
    "\n",
    "    # drop columns\n",
    "    for feature in list_to_drop:\n",
    "        #if ~feature.isin(df2.colunms):\n",
    "        #    except ValueError:\n",
    "        #    print(\"Column name does not exist\")\n",
    "        elif feature == 'flag':\n",
    "            df2.drop(flags, inplace = True, axis=1)\n",
    "        elif feature == 'territory':\n",
    "            df2.drop(territory_info, inplace = True, axis=1)\n",
    "        elif feature == 'imputed':\n",
    "            df2.drop(imputed_info, inplace = True, axis=1)\n",
    "        else:\n",
    "            df2.drop(feature, inplace = True, axis=1)\n",
    "\n",
    "    return df2"
   ]
  },
  {
   "cell_type": "code",
   "execution_count": null,
   "metadata": {},
   "outputs": [],
   "source": [
    "dsample = create_reduced_df(dsample)"
   ]
  },
  {
   "cell_type": "code",
   "execution_count": 7,
   "metadata": {},
   "outputs": [],
   "source": [
    "#LabelEncoding Function. Thanks Ira!\n",
    "def LabelEncoding(dataframe):\n",
    "    '''\n",
    "    Function that takes a dataframe and transforms it with label encoding on all the categorical features.\n",
    "    '''\n",
    "    \n",
    "    #create a list using object types since dataframe.dtypes.value_counts() only shows objects and int64\n",
    "    objlist = list(dataframe.select_dtypes(include=['object']).columns)\n",
    "    \n",
    "    #change type then transform column using cat codes\n",
    "    for col in objlist:\n",
    "        dataframe[col] = dataframe[col].astype('category')\n",
    "        dataframe[col] = dataframe[col].cat.codes\n",
    "    \n",
    "    return dataframe"
   ]
  },
  {
   "cell_type": "code",
   "execution_count": 8,
   "metadata": {},
   "outputs": [],
   "source": [
    "#Label Encoded\n",
    "dsample = LabelEncoding(dsample)"
   ]
  },
  {
   "cell_type": "code",
   "execution_count": 21,
   "metadata": {},
   "outputs": [],
   "source": [
    "def targetchoice(column,dataframe):\n",
    "    '''\n",
    "    Takes a column and a dataframe, returns four values for;\n",
    "    x_train, X_test, y_train, and y_test\n",
    "    '''\n",
    "    #Cutting the data and target dataframes\n",
    "    sample_data = dataframe.loc[:, dsample.columns != column ]\n",
    "    sample_target = dataframe.loc[:,column]\n",
    "    \n",
    "    #assigning to variables\n",
    "    X_train, X_test, y_train, y_test = train_test_split(sample_data, sample_target, test_size=0.2, random_state=0)\n",
    "    \n",
    "    #appending to a list to return for multi-assignment\n",
    "    varlist = []\n",
    "    varlist.append(X_train)\n",
    "    varlist.append(X_test)\n",
    "    varlist.append(y_train)\n",
    "    varlist.append(y_test)\n",
    "    return varlist\n",
    "\n",
    "#format is \"X_train, X_test, y_train, y_test = targetchoice()\""
   ]
  },
  {
   "cell_type": "code",
   "execution_count": 22,
   "metadata": {},
   "outputs": [],
   "source": [
    "X_train, X_test, y_train, y_test = targetchoice('AB_NICU',dsample)"
   ]
  },
  {
   "cell_type": "code",
   "execution_count": 8,
   "metadata": {},
   "outputs": [
    {
     "name": "stderr",
     "output_type": "stream",
     "text": [
      "/anaconda3/lib/python3.7/site-packages/sklearn/ensemble/forest.py:246: FutureWarning: The default value of n_estimators will change from 10 in version 0.20 to 100 in 0.22.\n",
      "  \"10 in version 0.20 to 100 in 0.22.\", FutureWarning)\n"
     ]
    },
    {
     "name": "stdout",
     "output_type": "stream",
     "text": [
      "The training error is: 0.01301\n",
      "The test     error is: 0.16458\n"
     ]
    }
   ],
   "source": [
    "#RANDOM FOREST INITIAL FIT-\n",
    "randomForest = ensemble.RandomForestClassifier()\n",
    "randomForest.set_params(random_state=0)\n",
    "randomForest.fit(X_train, y_train) \n",
    "print(\"The training error is: %.5f\" % (1 - randomForest.score(X_train, y_train)))\n",
    "print(\"The test     error is: %.5f\" % (1 - randomForest.score(X_test, y_test)))"
   ]
  },
  {
   "cell_type": "code",
   "execution_count": 19,
   "metadata": {},
   "outputs": [
    {
     "name": "stdout",
     "output_type": "stream",
     "text": [
      "CPU times: user 1min 21s, sys: 2.96 s, total: 1min 24s\n",
      "Wall time: 56min 35s\n"
     ]
    },
    {
     "data": {
      "text/plain": [
       "GridSearchCV(cv=5, error_score='raise-deprecating',\n",
       "       estimator=RandomForestClassifier(bootstrap=True, class_weight=None, criterion='gini',\n",
       "            max_depth=None, max_features='auto', max_leaf_nodes=None,\n",
       "            min_impurity_decrease=0.0, min_impurity_split=None,\n",
       "            min_samples_leaf=1, min_samples_split=2,\n",
       "            min_weight_fraction_leaf=0.0, n_estimators=10, n_jobs=None,\n",
       "            oob_score=False, random_state=0, verbose=0, warm_start=False),\n",
       "       fit_params=None, iid='warn', n_jobs=-1,\n",
       "       param_grid={'criterion': ['gini', 'entropy'], 'max_depth': range(1, 16), 'n_estimators': range(10, 50, 30)},\n",
       "       pre_dispatch='2*n_jobs', refit=True, return_train_score='warn',\n",
       "       scoring='accuracy', verbose=0)"
      ]
     },
     "execution_count": 19,
     "metadata": {},
     "output_type": "execute_result"
    }
   ],
   "source": [
    "# set the parameter grid\n",
    "grid_para_forest = {\n",
    "    'criterion': ['gini', 'entropy'],\n",
    "    'max_depth': range(1, 16),\n",
    "    'n_estimators': range(10, 50, 30)\n",
    "}\n",
    "# grid search\n",
    "grid_search_forest = ms.GridSearchCV(randomForest, grid_para_forest, scoring='accuracy', cv=5, n_jobs=-1,)\n",
    "%time grid_search_forest.fit(X_train, y_train)"
   ]
  },
  {
   "cell_type": "code",
   "execution_count": 20,
   "metadata": {},
   "outputs": [
    {
     "name": "stdout",
     "output_type": "stream",
     "text": [
      "{'criterion': 'gini', 'max_depth': 15, 'n_estimators': 40}\n"
     ]
    },
    {
     "data": {
      "text/plain": [
       "0.8431166186317793"
      ]
     },
     "execution_count": 20,
     "metadata": {},
     "output_type": "execute_result"
    }
   ],
   "source": [
    "# Best Params so far: {'criterion': 'gini', 'max_depth': 15, 'n_estimators': 40}\n",
    "# 0.8431166186317793\n",
    "print(grid_search_forest.best_params_)\n",
    "grid_search_forest.best_score_"
   ]
  },
  {
   "cell_type": "code",
   "execution_count": 21,
   "metadata": {},
   "outputs": [
    {
     "name": "stdout",
     "output_type": "stream",
     "text": [
      "The training error is: 0.15095\n",
      "The test     error is: 0.15773\n"
     ]
    }
   ],
   "source": [
    "# get the training/test errors\n",
    "print(\"The training error is: %.5f\" % (1 - grid_search_forest.best_estimator_.score(X_train, y_train)))\n",
    "print(\"The test     error is: %.5f\" % (1 - grid_search_forest.best_estimator_.score(X_test, y_test)))"
   ]
  },
  {
   "cell_type": "code",
   "execution_count": 56,
   "metadata": {},
   "outputs": [
    {
     "data": {
      "text/plain": [
       "[b'BWTR12',\n",
       " b'GESTREC10',\n",
       " b'AB_AVEN1',\n",
       " b'AB_SURF',\n",
       " b'APGAR5',\n",
       " b'DOB_TT',\n",
       " b'PREVIS',\n",
       " b'DOB_MM',\n",
       " b'CA_HYPO',\n",
       " b'LD_STER']"
      ]
     },
     "execution_count": 56,
     "metadata": {},
     "output_type": "execute_result"
    }
   ],
   "source": [
    "#list of feature importance\n",
    "feature_importance = list(zip(dsample.columns, randomForest.feature_importances_))\n",
    "dtype = [('feature', 'S10'), ('importance', 'float')]\n",
    "feature_importance = np.array(feature_importance, dtype=dtype)\n",
    "feature_sort = np.sort(feature_importance, order='importance')[::-1]\n",
    "[i for (i, j) in feature_sort[0:10]]"
   ]
  },
  {
   "cell_type": "code",
   "execution_count": null,
   "metadata": {},
   "outputs": [],
   "source": [
    "#Sorting feature importance\n",
    "sorted_features = sorted(feature_importance, key=lambda x: x[1], reverse=True)"
   ]
  },
  {
   "cell_type": "code",
   "execution_count": 58,
   "metadata": {},
   "outputs": [
    {
     "data": {
      "text/plain": [
       "Text(0.5, 1.0, 'feature importance')"
      ]
     },
     "execution_count": 58,
     "metadata": {},
     "output_type": "execute_result"
    },
    {
     "data": {
      "image/png": "[encoded data removed]",
      "text/plain": [
       "<Figure size 432x288 with 1 Axes>"
      ]
     },
     "metadata": {
      "needs_background": "light"
     },
     "output_type": "display_data"
    }
   ],
   "source": [
    "# Plot\n",
    "features_top10 = sorted_features[:10]\n",
    "featureNames, featureScores = zip(*list(features_top10))\n",
    "plt.barh(range(len(featureScores)), featureScores, tick_label=featureNames)\n",
    "plt.title('feature importance')\n"
   ]
  },
  {
   "cell_type": "code",
   "execution_count": 35,
   "metadata": {},
   "outputs": [],
   "source": [
    "#Thanks Drucila!\n",
    "feature_importance = 100.0 * (randomForest.feature_importances_ / randomForest.feature_importances_.max())\n",
    "important_features = X_train.columns[feature_importance >= 10]\n",
    "unimportant_features = X_train.columns[feature_importance < 5]"
   ]
  },
  {
   "cell_type": "code",
   "execution_count": 34,
   "metadata": {},
   "outputs": [
    {
     "data": {
      "text/plain": [
       "Index(['DOB_MM', 'DOB_TT', 'DOB_WK', 'MAGER9', 'MEDUC', 'FAGEREC11', 'FEDUC',\n",
       "       'ILLB_R11', 'PRECARE', 'PREVIS', 'BMI_R', 'WTGAIN_REC', 'LD_STER',\n",
       "       'ME_TRIAL', 'APGAR5', 'GESTREC10', 'BWTR12', 'AB_AVEN1', 'AB_AVEN6',\n",
       "       'AB_ANTI', 'ITRAN'],\n",
       "      dtype='object')"
      ]
     },
     "execution_count": 34,
     "metadata": {},
     "output_type": "execute_result"
    }
   ],
   "source": [
    "important_features"
   ]
  },
  {
   "cell_type": "code",
   "execution_count": 36,
   "metadata": {},
   "outputs": [
    {
     "data": {
      "text/plain": [
       "Index(['DOB_YY', 'BFACIL3', 'PRIORDEAD', 'CIG0_R', 'CIG1_R', 'CIG2_R',\n",
       "       'CIG3_R', 'RF_PDIAB', 'RF_GDIAB', 'RF_PHYPE', 'RF_EHYPE', 'RF_PPTERM',\n",
       "       'RF_INFTR', 'RF_FEDRG', 'RF_ARTEC', 'RF_CESAR', 'RF_CESARN', 'IP_GON',\n",
       "       'IP_SYPH', 'IP_CHLAM', 'IP_HEPB', 'IP_HEPC', 'OB_ECVS', 'LD_INDL',\n",
       "       'LD_AUGM', 'LD_ANES', 'ME_PRES', 'MM_MTR', 'MM_PLAC', 'MM_RUPT',\n",
       "       'MM_UHYST', 'MM_AICU', 'MTRAN', 'DPLURAL', 'AB_SURF', 'AB_SEIZ',\n",
       "       'CA_ANEN', 'CA_MNSB', 'CA_CCHD', 'CA_CDH', 'CA_OMPH', 'CA_GAST',\n",
       "       'CA_LIMB', 'CA_CLEFT', 'CA_CLPAL', 'CA_DOWN', 'CA_DISOR', 'CA_HYPO',\n",
       "       'ILIVE'],\n",
       "      dtype='object')"
      ]
     },
     "execution_count": 36,
     "metadata": {},
     "output_type": "execute_result"
    }
   ],
   "source": [
    "unimportant_features"
   ]
  },
  {
   "cell_type": "code",
   "execution_count": 59,
   "metadata": {},
   "outputs": [
    {
     "data": {
      "text/plain": [
       "[(b'BWTR12', 0.12441732),\n",
       " (b'GESTREC10', 0.10888971),\n",
       " (b'AB_AVEN1', 0.06423038),\n",
       " (b'AB_SURF', 0.05783656),\n",
       " (b'APGAR5', 0.05359019),\n",
       " (b'DOB_TT', 0.04049833),\n",
       " (b'PREVIS', 0.03620637),\n",
       " (b'DOB_MM', 0.02591503),\n",
       " (b'CA_HYPO', 0.02485286),\n",
       " (b'LD_STER', 0.02371669),\n",
       " (b'DOB_WK', 0.02125367),\n",
       " (b'MEDUC', 0.01949017),\n",
       " (b'PRECARE', 0.01898294),\n",
       " (b'WTGAIN_REC', 0.01813865),\n",
       " (b'AB_AVEN6', 0.01812059),\n",
       " (b'FEDUC', 0.01790124),\n",
       " (b'FAGEREC11', 0.01789862),\n",
       " (b'BMI_R', 0.01724135),\n",
       " (b'MAGER9', 0.01639423),\n",
       " (b'ME_TRIAL', 0.01562728),\n",
       " (b'ILLB_R11', 0.01474588),\n",
       " (b'TBO_REC', 0.0120014),\n",
       " (b'FRACEHISP', 0.01169319),\n",
       " (b'MRACEHISP', 0.01167114),\n",
       " (b'ME_ROUT', 0.01012356),\n",
       " (b'LD_CHOR', 0.00971956),\n",
       " (b'APGAR10', 0.00937809),\n",
       " (b'PAY_REC', 0.00912643),\n",
       " (b'PRIORTERM', 0.00912234),\n",
       " (b'PRIORLIVE', 0.00876588),\n",
       " (b'LBO_REC', 0.00868713),\n",
       " (b'RESTATUS', 0.00850041),\n",
       " (b'MAR_P', 0.00816675),\n",
       " (b'ILIVE', 0.00745107),\n",
       " (b'RF_GHYPE', 0.00713676),\n",
       " (b'ATTEND', 0.00711052),\n",
       " (b'DMAR', 0.00706267),\n",
       " (b'SEX', 0.0067061),\n",
       " (b'WIC', 0.00644383),\n",
       " (b'LD_ANTB', 0.00632471),\n",
       " (b'LD_INDL', 0.00587478),\n",
       " (b'LD_AUGM', 0.00567465),\n",
       " (b'LD_ANES', 0.00519826),\n",
       " (b'ME_PRES', 0.00487564),\n",
       " (b'DPLURAL', 0.00409445),\n",
       " (b'CIG0_R', 0.00398481),\n",
       " (b'RF_CESARN', 0.00366172),\n",
       " (b'RF_GDIAB', 0.00365386),\n",
       " (b'AB_NICU', 0.00336067),\n",
       " (b'RF_PPTERM', 0.00309323),\n",
       " (b'CIG1_R', 0.00300244),\n",
       " (b'CIG3_R', 0.00297924),\n",
       " (b'RF_PDIAB', 0.00281293),\n",
       " (b'RF_PHYPE', 0.00258271),\n",
       " (b'CIG2_R', 0.0022944),\n",
       " (b'RF_CESAR', 0.00214071),\n",
       " (b'IP_HEPC', 0.0017356),\n",
       " (b'IP_CHLAM', 0.00153129),\n",
       " (b'CA_MNSB', 0.00147954),\n",
       " (b'RF_FEDRG', 0.00128196),\n",
       " (b'RF_ARTEC', 0.00125899),\n",
       " (b'MTRAN', 0.0011479),\n",
       " (b'ITRAN', 0.00108536),\n",
       " (b'PRIORDEAD', 0.00101155),\n",
       " (b'RF_INFTR', 0.00092401),\n",
       " (b'MM_PLAC', 0.00076346),\n",
       " (b'CA_CLPAL', 0.00063016),\n",
       " (b'MM_MTR', 0.0006192),\n",
       " (b'IP_SYPH', 0.00058338),\n",
       " (b'CA_LIMB', 0.00056817),\n",
       " (b'MM_AICU', 0.0005311),\n",
       " (b'BFACIL3', 0.00052712),\n",
       " (b'IP_GON', 0.00049759),\n",
       " (b'CA_DOWN', 0.00048489),\n",
       " (b'IP_HEPB', 0.00045066),\n",
       " (b'RF_EHYPE', 0.00039972),\n",
       " (b'CA_CLEFT', 0.00029747),\n",
       " (b'CA_ANEN', 0.0002828),\n",
       " (b'OB_ECVS', 0.00024116),\n",
       " (b'CA_OMPH', 0.00019648),\n",
       " (b'CA_DISOR', 0.0001955),\n",
       " (b'AB_ANTI', 0.00018819),\n",
       " (b'CA_CDH', 0.00014857),\n",
       " (b'MM_UHYST', 0.00012648),\n",
       " (b'MM_RUPT', 0.00012469),\n",
       " (b'CA_CCHD', 0.00011716),\n",
       " (b'CA_GAST', 7.64488584e-05),\n",
       " (b'AB_SEIZ', 6.92888487e-05),\n",
       " (b'DOB_YY', 0.)]"
      ]
     },
     "execution_count": 59,
     "metadata": {},
     "output_type": "execute_result"
    }
   ],
   "source": [
    "sorted_features"
   ]
  }
 ],
 "metadata": {
  "kernelspec": {
   "display_name": "Python 3",
   "language": "python",
   "name": "python3"
  },
  "language_info": {
   "codemirror_mode": {
    "name": "ipython",
    "version": 3
   },
   "file_extension": ".py",
   "mimetype": "text/x-python",
   "name": "python",
   "nbconvert_exporter": "python",
   "pygments_lexer": "ipython3",
   "version": "3.7.3"
  }
 },
 "nbformat": 4,
 "nbformat_minor": 2
}
