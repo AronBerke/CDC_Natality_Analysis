{
 "cells": [
  {
   "cell_type": "code",
   "execution_count": 61,
   "metadata": {},
   "outputs": [],
   "source": [
    "#import modules\n",
    "import pandas as pd\n",
    "import numpy as np\n",
    "import matplotlib.pyplot as plt\n",
    "import sklearn.model_selection as ms\n",
    "from sklearn.model_selection import train_test_split\n",
    "from sklearn import tree\n",
    "from sklearn import ensemble\n",
    "import re\n",
    "from sklearn.metrics import confusion_matrix"
   ]
  },
  {
   "cell_type": "code",
   "execution_count": 38,
   "metadata": {},
   "outputs": [],
   "source": [
    "#Import dataset\n",
    "\n",
    "# trimmed2018 = pd.read_csv('cdc2018trimmed.csv') #(84)\n",
    "\n",
    "# csv2018 = pd.read_csv('CSV2018.csv') # with bettina's function as well, (98 lol)\n",
    "\n",
    "trimwolabor2018 = pd.read_csv('cdc2018wolabor.csv') #(68)\n",
    "\n",
    "# trimmed2 = pd.read_csv('cdc2018trimmed2.csv') #(84)\n",
    "\n",
    "# trimmed2016 = pd.read_csv(\"CDC2016trimmed.csv\") #84.9\n",
    "\n",
    "# trimwolabor2016 = pd.read_csv('CDC2016wolabor.csv') #67.3\n",
    "\n",
    "# trimmed2017 = pd.read_csv('CDC2017trimmed.csv') #84.8\n"
   ]
  },
  {
   "cell_type": "code",
   "execution_count": 39,
   "metadata": {},
   "outputs": [],
   "source": [
    "#remove unknown AB_NICUs\n",
    "trimwolabor2018 = trimwolabor2018[trimwolabor2018['AB_NICU'].isin(['Y', 'N'])]"
   ]
  },
  {
   "cell_type": "code",
   "execution_count": 3,
   "metadata": {},
   "outputs": [],
   "source": [
    "# function to split out holdout test set\n",
    "def split_sets(dataframe, seed, test_prop=0.1): \n",
    "    '''\n",
    "    - A function that splits specifically a dataframe into a train and test portion\n",
    "    - Requires multiple assignment: train, test\n",
    "    ---------------\n",
    "    - dataframe: dataframe to be split\n",
    "    - seed: set seed for reproducability\n",
    "    - test_prop: takes a float - proportion of dataframe that should be allocated to the test set\n",
    "    '''\n",
    "\n",
    "    np.random.seed(seed)\n",
    "    testIdxes = np.random.choice(range(0,dataframe.shape[0]), size=round(dataframe.shape[0]*test_prop), replace=False)\n",
    "    trainIdxes = list(set(range(0,dataframe.shape[0])) - set(testIdxes))\n",
    "\n",
    "    train = dataframe.iloc[trainIdxes,:]\n",
    "    test  = dataframe.iloc[testIdxes,:]\n",
    "    \n",
    "    return train, test"
   ]
  },
  {
   "cell_type": "code",
   "execution_count": 40,
   "metadata": {},
   "outputs": [],
   "source": [
    "train, test = split_sets(trimwolabor2018, 0, test_prop=0.1)"
   ]
  },
  {
   "cell_type": "code",
   "execution_count": 41,
   "metadata": {},
   "outputs": [
    {
     "name": "stdout",
     "output_type": "stream",
     "text": [
      "(3418273, 54)\n",
      "(379808, 54)\n"
     ]
    }
   ],
   "source": [
    "print(train.shape)\n",
    "print(test.shape)"
   ]
  },
  {
   "cell_type": "code",
   "execution_count": 42,
   "metadata": {},
   "outputs": [],
   "source": [
    "dsample = train.copy()"
   ]
  },
  {
   "cell_type": "code",
   "execution_count": 9,
   "metadata": {},
   "outputs": [],
   "source": [
    "#Downsample function, thanks Bettina and Aron!\n",
    "def downsample_df (df):\n",
    "\n",
    "    '''\n",
    "    Remove undefined information on NICU admissions (AB_NICU == 'U'),\n",
    "    create a binary target vector, and create a \"balanced\" dataframe\n",
    "    with all NICU admissions and matching numbers of randomly selected non-NICU admissions.\n",
    "    '''\n",
    "\n",
    "    import pandas as pd\n",
    "    import numpy as np\n",
    "\n",
    "    # remove unknown class from df\n",
    "    df_no_unknown = df[df['AB_NICU'].isin(['Y', 'N'])]\n",
    "\n",
    "    # Create binary target vector, NICU = yes classified as class 0\n",
    "    df_y_n = np.where((df_no_unknown['AB_NICU'] == 'Y'), 0, 1)\n",
    "\n",
    "    # Get indicies of each class' observations\n",
    "    index_class0 = np.where(df_y_n == 0)[0]\n",
    "    index_class1 = np.where(df_y_n == 1)[0]\n",
    "\n",
    "    # Get numbers of observations in class 0\n",
    "    n_class0 = len(index_class0)\n",
    "\n",
    "    # Randomly sample the same number of observations from class 1 as in class 0, without replacement\n",
    "    np.random.seed(0)\n",
    "    index_class1_downsampled = np.random.choice(index_class1, size=n_class0, replace=False)\n",
    "\n",
    "    # Create dataframes for NICU and downsampled non-NICU\n",
    "    df_defect = df_no_unknown.iloc[index_class0]\n",
    "    df_adj_NONdefect = df_no_unknown.iloc[index_class1_downsampled]\n",
    "\n",
    "    # Append into 1 dataframe\n",
    "    df_downsampled = df_defect.append(df_adj_NONdefect)\n",
    "\n",
    "    return df_downsampled"
   ]
  },
  {
   "cell_type": "code",
   "execution_count": 43,
   "metadata": {},
   "outputs": [],
   "source": [
    "#Downsampled\n",
    "dsample = downsample_df(dsample)"
   ]
  },
  {
   "cell_type": "code",
   "execution_count": 11,
   "metadata": {},
   "outputs": [],
   "source": [
    "#LabelEncoding Function. Thanks Ira!\n",
    "def LabelEncoding(dataframe):\n",
    "    '''\n",
    "    Function that takes a dataframe and transforms it with label encoding on all the categorical features.\n",
    "    '''\n",
    "    \n",
    "    import pandas as pd\n",
    "    \n",
    "    #create a list using object types since dataframe.dtypes.value_counts() only shows objects and int64\n",
    "    objlist = list(dataframe.select_dtypes(include=['object']).columns)\n",
    "    \n",
    "    #change type then transform column using cat codes\n",
    "    for col in objlist:\n",
    "        dataframe[col] = dataframe[col].astype('category')\n",
    "        dataframe[col] = dataframe[col].cat.codes\n",
    "    \n",
    "    return dataframe"
   ]
  },
  {
   "cell_type": "code",
   "execution_count": 44,
   "metadata": {},
   "outputs": [
    {
     "name": "stderr",
     "output_type": "stream",
     "text": [
      "/anaconda3/lib/python3.7/site-packages/ipykernel_launcher.py:14: SettingWithCopyWarning: \n",
      "A value is trying to be set on a copy of a slice from a DataFrame.\n",
      "Try using .loc[row_indexer,col_indexer] = value instead\n",
      "\n",
      "See the caveats in the documentation: http://pandas.pydata.org/pandas-docs/stable/indexing.html#indexing-view-versus-copy\n",
      "  \n",
      "/anaconda3/lib/python3.7/site-packages/ipykernel_launcher.py:15: SettingWithCopyWarning: \n",
      "A value is trying to be set on a copy of a slice from a DataFrame.\n",
      "Try using .loc[row_indexer,col_indexer] = value instead\n",
      "\n",
      "See the caveats in the documentation: http://pandas.pydata.org/pandas-docs/stable/indexing.html#indexing-view-versus-copy\n",
      "  from ipykernel import kernelapp as app\n"
     ]
    }
   ],
   "source": [
    "#Label Encoded\n",
    "dsample = LabelEncoding(dsample)\n",
    "dtest = LabelEncoding(test)"
   ]
  },
  {
   "cell_type": "code",
   "execution_count": 45,
   "metadata": {},
   "outputs": [],
   "source": [
    "#test train split\n",
    "X_train = dsample.drop('AB_NICU', axis=1)\n",
    "y_train = dsample['AB_NICU']\n",
    "X_test = dtest.drop('AB_NICU', axis=1)\n",
    "y_test = dtest['AB_NICU']"
   ]
  },
  {
   "cell_type": "code",
   "execution_count": 46,
   "metadata": {},
   "outputs": [
    {
     "name": "stdout",
     "output_type": "stream",
     "text": [
      "(625884, 53)\n",
      "(379808, 53)\n",
      "(625884,)\n",
      "(379808,)\n"
     ]
    }
   ],
   "source": [
    "print(X_train.shape)\n",
    "print(X_test.shape)\n",
    "print(y_train.shape)\n",
    "print(y_test.shape)"
   ]
  },
  {
   "cell_type": "code",
   "execution_count": 47,
   "metadata": {},
   "outputs": [
    {
     "name": "stderr",
     "output_type": "stream",
     "text": [
      "/anaconda3/lib/python3.7/site-packages/sklearn/ensemble/forest.py:246: FutureWarning: The default value of n_estimators will change from 10 in version 0.20 to 100 in 0.22.\n",
      "  \"10 in version 0.20 to 100 in 0.22.\", FutureWarning)\n"
     ]
    },
    {
     "name": "stdout",
     "output_type": "stream",
     "text": [
      "The training error is: 0.03227\n",
      "The test     error is: 0.29307\n"
     ]
    }
   ],
   "source": [
    "#RANDOM FOREST INITIAL FIT-\n",
    "randomForest = ensemble.RandomForestClassifier()\n",
    "randomForest.set_params(random_state=0)\n",
    "randomForest.fit(X_train, y_train) \n",
    "print(\"The training error is: %.5f\" % (1 - randomForest.score(X_train, y_train)))\n",
    "print(\"The test     error is: %.5f\" % (1 - randomForest.score(X_test, y_test)))"
   ]
  },
  {
   "cell_type": "code",
   "execution_count": 49,
   "metadata": {},
   "outputs": [
    {
     "name": "stdout",
     "output_type": "stream",
     "text": [
      "CPU times: user 1min 18s, sys: 5.42 s, total: 1min 24s\n",
      "Wall time: 1h 42min 51s\n"
     ]
    },
    {
     "data": {
      "text/plain": [
       "GridSearchCV(cv=5, error_score='raise-deprecating',\n",
       "       estimator=RandomForestClassifier(bootstrap=True, class_weight=None, criterion='gini',\n",
       "            max_depth=None, max_features='auto', max_leaf_nodes=None,\n",
       "            min_impurity_decrease=0.0, min_impurity_split=None,\n",
       "            min_samples_leaf=1, min_samples_split=2,\n",
       "            min_weight_fraction_leaf=0.0, n_estimators=10, n_jobs=None,\n",
       "            oob_score=False, random_state=0, verbose=0, warm_start=False),\n",
       "       fit_params=None, iid='warn', n_jobs=-1,\n",
       "       param_grid={'criterion': ['gini', 'entropy'], 'max_depth': range(1, 16), 'n_estimators': range(10, 50, 10)},\n",
       "       pre_dispatch='2*n_jobs', refit=True, return_train_score='warn',\n",
       "       scoring='accuracy', verbose=0)"
      ]
     },
     "execution_count": 49,
     "metadata": {},
     "output_type": "execute_result"
    }
   ],
   "source": [
    "# set the parameter grid\n",
    "grid_para_forest = {\n",
    "    'criterion': ['gini', 'entropy'],\n",
    "    'max_depth': range(1, 16),\n",
    "    'n_estimators': range(10, 50, 10)\n",
    "}\n",
    "# GRID SEARCH\n",
    "grid_search_forest = ms.GridSearchCV(randomForest, grid_para_forest, scoring='accuracy', cv=5, n_jobs=-1,)\n",
    "%time grid_search_forest.fit(X_train, y_train)"
   ]
  },
  {
   "cell_type": "code",
   "execution_count": 50,
   "metadata": {},
   "outputs": [
    {
     "name": "stdout",
     "output_type": "stream",
     "text": [
      "{'criterion': 'entropy', 'max_depth': 15, 'n_estimators': 40}\n"
     ]
    },
    {
     "data": {
      "text/plain": [
       "0.6483821283177075"
      ]
     },
     "execution_count": 50,
     "metadata": {},
     "output_type": "execute_result"
    }
   ],
   "source": [
    "#Best Params and Score\n",
    "print(grid_search_forest.best_params_)\n",
    "grid_search_forest.best_score_"
   ]
  },
  {
   "cell_type": "code",
   "execution_count": 51,
   "metadata": {},
   "outputs": [
    {
     "name": "stdout",
     "output_type": "stream",
     "text": [
      "The training error is: 0.31683\n",
      "The test     error is: 0.24384\n"
     ]
    }
   ],
   "source": [
    "# get the training/test errors\n",
    "print(\"The training error is: %.5f\" % (1 - grid_search_forest.best_estimator_.score(X_train, y_train)))\n",
    "print(\"The test     error is: %.5f\" % (1 - grid_search_forest.best_estimator_.score(X_test, y_test)))"
   ]
  },
  {
   "cell_type": "code",
   "execution_count": 52,
   "metadata": {},
   "outputs": [
    {
     "data": {
      "text/plain": [
       "[b'PREVIS_REC',\n",
       " b'MEDUC',\n",
       " b'FEDUC',\n",
       " b'WTGAIN_REC',\n",
       " b'FAGEREC11',\n",
       " b'BMI_R',\n",
       " b'MAGER9',\n",
       " b'ILLB_R11',\n",
       " b'DPLURAL',\n",
       " b'MRACEHISP']"
      ]
     },
     "execution_count": 52,
     "metadata": {},
     "output_type": "execute_result"
    }
   ],
   "source": [
    "#list of feature importance\n",
    "feature_importance = list(zip(dsample.columns, randomForest.feature_importances_))\n",
    "dtype = [('feature', 'S10'), ('importance', 'float')]\n",
    "feature_importance = np.array(feature_importance, dtype=dtype)\n",
    "feature_sort = np.sort(feature_importance, order='importance')[::-1]\n",
    "[i for (i, j) in feature_sort[0:10]]"
   ]
  },
  {
   "cell_type": "code",
   "execution_count": 68,
   "metadata": {},
   "outputs": [
    {
     "data": {
      "text/plain": [
       "array([[267416,  77930],\n",
       "       [ 14682,  19780]])"
      ]
     },
     "execution_count": 68,
     "metadata": {},
     "output_type": "execute_result"
    }
   ],
   "source": [
    "#CONFUSION MATRIX\n",
    "cm = confusion_matrix(y_test, grid_search_forest.best_estimator_.predict(X_test))\n",
    "cm"
   ]
  },
  {
   "cell_type": "code",
   "execution_count": 54,
   "metadata": {},
   "outputs": [
    {
     "data": {
      "text/plain": [
       "[(b'PREVIS_REC', 0.08846543),\n",
       " (b'MEDUC', 0.08048163),\n",
       " (b'FEDUC', 0.07469299),\n",
       " (b'WTGAIN_REC', 0.06448308),\n",
       " (b'FAGEREC11', 0.06318106),\n",
       " (b'BMI_R', 0.06069618),\n",
       " (b'MAGER9', 0.05806998),\n",
       " (b'ILLB_R11', 0.05501394),\n",
       " (b'DPLURAL', 0.04313452),\n",
       " (b'MRACEHISP', 0.03732498),\n",
       " (b'FRACEHISP', 0.03651815),\n",
       " (b'PRECARE5', 0.02862685),\n",
       " (b'TBO_REC', 0.02744014),\n",
       " (b'RESTATUS', 0.02522286),\n",
       " (b'WIC', 0.0239719),\n",
       " (b'PRIORTERM', 0.02189027),\n",
       " (b'MAR_P', 0.02030929),\n",
       " (b'LBO_REC', 0.01828794),\n",
       " (b'PRIORLIVE', 0.01824108),\n",
       " (b'DMAR', 0.01821535),\n",
       " (b'RF_GHYPE', 0.01776994),\n",
       " (b'CIG3_R', 0.01513421),\n",
       " (b'CIG0_R', 0.01190173),\n",
       " (b'RF_PPTERM', 0.01020857),\n",
       " (b'RF_GDIAB', 0.0083896),\n",
       " (b'RF_CESARN', 0.00830886),\n",
       " (b'CIG1_R', 0.00709615),\n",
       " (b'RF_PHYPE', 0.00686904),\n",
       " (b'RF_PDIAB', 0.00647373),\n",
       " (b'RF_CESAR', 0.00545726),\n",
       " (b'CIG2_R', 0.00528381),\n",
       " (b'IP_CHLAM', 0.00498855),\n",
       " (b'CA_MNSB', 0.00334545),\n",
       " (b'PRIORDEAD', 0.00267367),\n",
       " (b'RF_FEDRG', 0.00256447),\n",
       " (b'IP_HEPC', 0.00244052),\n",
       " (b'RF_ARTEC', 0.00231944),\n",
       " (b'RF_INFTR', 0.00195238),\n",
       " (b'RF_EHYPE', 0.00180897),\n",
       " (b'IP_GON', 0.001344),\n",
       " (b'CA_CLPAL', 0.00130543),\n",
       " (b'CA_OMPH', 0.00114115),\n",
       " (b'IP_HEPB', 0.00113655),\n",
       " (b'IP_SYPH', 0.00111843),\n",
       " (b'CA_DOWN', 0.00100752),\n",
       " (b'CA_LIMB', 0.00083719),\n",
       " (b'CA_ANEN', 0.00060962),\n",
       " (b'CA_CCHD', 0.00058163),\n",
       " (b'CA_CLEFT', 0.00052019),\n",
       " (b'CA_DISOR', 0.00047756),\n",
       " (b'CA_CDH', 0.00036655),\n",
       " (b'CA_GAST', 0.00017729),\n",
       " (b'AB_NICU', 0.00012291)]"
      ]
     },
     "execution_count": 54,
     "metadata": {},
     "output_type": "execute_result"
    }
   ],
   "source": [
    "#Sorting feature importance\n",
    "sorted_features = sorted(feature_importance, key=lambda x: x[1], reverse=True)\n",
    "sorted_features"
   ]
  },
  {
   "cell_type": "code",
   "execution_count": 55,
   "metadata": {},
   "outputs": [
    {
     "data": {
      "text/plain": [
       "Text(0.5, 1.0, 'feature importance')"
      ]
     },
     "execution_count": 55,
     "metadata": {},
     "output_type": "execute_result"
    },
    {
     "data": {
      "image/png": "[encoded data removed]",
      "text/plain": [
       "<Figure size 432x288 with 1 Axes>"
      ]
     },
     "metadata": {
      "needs_background": "light"
     },
     "output_type": "display_data"
    }
   ],
   "source": [
    "# Plot\n",
    "features_top10 = sorted_features[:10]\n",
    "featureNames, featureScores = zip(*list(features_top10))\n",
    "plt.barh(range(len(featureScores)), featureScores, tick_label=featureNames)\n",
    "plt.title('feature importance')\n"
   ]
  },
  {
   "cell_type": "code",
   "execution_count": 56,
   "metadata": {},
   "outputs": [],
   "source": [
    "#Thanks Drucila!\n",
    "feature_importance = 100.0 * (randomForest.feature_importances_ / randomForest.feature_importances_.max())\n",
    "important_features = X_train.columns[feature_importance >= 10]\n",
    "unimportant_features = X_train.columns[feature_importance < 5]"
   ]
  },
  {
   "cell_type": "code",
   "execution_count": 57,
   "metadata": {},
   "outputs": [
    {
     "data": {
      "text/plain": [
       "Index(['MAGER9', 'RESTATUS', 'MRACEHISP', 'MAR_P', 'DMAR', 'MEDUC',\n",
       "       'FAGEREC11', 'FRACEHISP', 'FEDUC', 'PRIORLIVE', 'PRIORTERM', 'LBO_REC',\n",
       "       'TBO_REC', 'ILLB_R11', 'PRECARE5', 'PREVIS_REC', 'WIC', 'CIG0_R',\n",
       "       'CIG3_R', 'BMI_R', 'WTGAIN_REC', 'RF_GHYPE', 'RF_PPTERM', 'DPLURAL'],\n",
       "      dtype='object')"
      ]
     },
     "execution_count": 57,
     "metadata": {},
     "output_type": "execute_result"
    }
   ],
   "source": [
    "important_features"
   ]
  },
  {
   "cell_type": "code",
   "execution_count": 58,
   "metadata": {},
   "outputs": [
    {
     "data": {
      "text/plain": [
       "Index(['PRIORDEAD', 'RF_EHYPE', 'RF_INFTR', 'RF_FEDRG', 'RF_ARTEC', 'IP_GON',\n",
       "       'IP_SYPH', 'IP_HEPB', 'IP_HEPC', 'CA_ANEN', 'CA_MNSB', 'CA_CCHD',\n",
       "       'CA_CDH', 'CA_OMPH', 'CA_GAST', 'CA_LIMB', 'CA_CLEFT', 'CA_CLPAL',\n",
       "       'CA_DOWN', 'CA_DISOR', 'CA_HYPO'],\n",
       "      dtype='object')"
      ]
     },
     "execution_count": 58,
     "metadata": {},
     "output_type": "execute_result"
    }
   ],
   "source": [
    "unimportant_features"
   ]
  },
  {
   "cell_type": "code",
   "execution_count": null,
   "metadata": {},
   "outputs": [],
   "source": []
  }
 ],
 "metadata": {
  "kernelspec": {
   "display_name": "Python 3",
   "language": "python",
   "name": "python3"
  },
  "language_info": {
   "codemirror_mode": {
    "name": "ipython",
    "version": 3
   },
   "file_extension": ".py",
   "mimetype": "text/x-python",
   "name": "python",
   "nbconvert_exporter": "python",
   "pygments_lexer": "ipython3",
   "version": "3.7.3"
  }
 },
 "nbformat": 4,
 "nbformat_minor": 2
}
